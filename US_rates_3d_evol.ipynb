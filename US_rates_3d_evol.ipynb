{
 "cells": [
  {
   "cell_type": "markdown",
   "id": "5b8fc3c0-de86-4fd4-a191-e7d916999954",
   "metadata": {},
   "source": [
    "# Ploting US Rates term structure over time - 3d"
   ]
  },
  {
   "cell_type": "code",
   "execution_count": 1,
   "id": "c3e75d07-028b-4d9c-bb94-567829592c85",
   "metadata": {},
   "outputs": [],
   "source": [
    "import pandas as pd\n",
    "import numpy as np\n",
    "import plotly.express as px\n",
    "import plotly\n",
    "import pandas_datareader as pdr\n"
   ]
  },
  {
   "cell_type": "markdown",
   "id": "f7abf2cc-b397-4561-bb1f-0f6948a329fa",
   "metadata": {},
   "source": [
    "## Import data"
   ]
  },
  {
   "cell_type": "code",
   "execution_count": 2,
   "id": "7293be9c-38db-492a-99a5-d3c6651e07dd",
   "metadata": {},
   "outputs": [
    {
     "data": {
      "text/html": [
       "<div>\n",
       "<style scoped>\n",
       "    .dataframe tbody tr th:only-of-type {\n",
       "        vertical-align: middle;\n",
       "    }\n",
       "\n",
       "    .dataframe tbody tr th {\n",
       "        vertical-align: top;\n",
       "    }\n",
       "\n",
       "    .dataframe thead th {\n",
       "        text-align: right;\n",
       "    }\n",
       "</style>\n",
       "<table border=\"1\" class=\"dataframe\">\n",
       "  <thead>\n",
       "    <tr style=\"text-align: right;\">\n",
       "      <th></th>\n",
       "      <th>GS30</th>\n",
       "      <th>GS10</th>\n",
       "      <th>GS5</th>\n",
       "      <th>GS3</th>\n",
       "      <th>GS2</th>\n",
       "      <th>GS1</th>\n",
       "      <th>GS6m</th>\n",
       "      <th>GS3m</th>\n",
       "      <th>GS1m</th>\n",
       "    </tr>\n",
       "    <tr>\n",
       "      <th>DATE</th>\n",
       "      <th></th>\n",
       "      <th></th>\n",
       "      <th></th>\n",
       "      <th></th>\n",
       "      <th></th>\n",
       "      <th></th>\n",
       "      <th></th>\n",
       "      <th></th>\n",
       "      <th></th>\n",
       "    </tr>\n",
       "  </thead>\n",
       "  <tbody>\n",
       "    <tr>\n",
       "      <th>2001-07-01</th>\n",
       "      <td>5.61</td>\n",
       "      <td>5.24</td>\n",
       "      <td>4.76</td>\n",
       "      <td>4.31</td>\n",
       "      <td>4.04</td>\n",
       "      <td>3.62</td>\n",
       "      <td>3.56</td>\n",
       "      <td>3.59</td>\n",
       "      <td>3.67</td>\n",
       "    </tr>\n",
       "    <tr>\n",
       "      <th>2001-08-01</th>\n",
       "      <td>5.48</td>\n",
       "      <td>4.97</td>\n",
       "      <td>4.57</td>\n",
       "      <td>4.04</td>\n",
       "      <td>3.76</td>\n",
       "      <td>3.47</td>\n",
       "      <td>3.39</td>\n",
       "      <td>3.44</td>\n",
       "      <td>3.53</td>\n",
       "    </tr>\n",
       "    <tr>\n",
       "      <th>2001-09-01</th>\n",
       "      <td>5.48</td>\n",
       "      <td>4.73</td>\n",
       "      <td>4.12</td>\n",
       "      <td>3.45</td>\n",
       "      <td>3.12</td>\n",
       "      <td>2.82</td>\n",
       "      <td>2.71</td>\n",
       "      <td>2.69</td>\n",
       "      <td>2.68</td>\n",
       "    </tr>\n",
       "    <tr>\n",
       "      <th>2001-10-01</th>\n",
       "      <td>5.32</td>\n",
       "      <td>4.57</td>\n",
       "      <td>3.91</td>\n",
       "      <td>3.14</td>\n",
       "      <td>2.73</td>\n",
       "      <td>2.33</td>\n",
       "      <td>2.17</td>\n",
       "      <td>2.20</td>\n",
       "      <td>2.27</td>\n",
       "    </tr>\n",
       "    <tr>\n",
       "      <th>2001-11-01</th>\n",
       "      <td>5.12</td>\n",
       "      <td>4.65</td>\n",
       "      <td>3.97</td>\n",
       "      <td>3.22</td>\n",
       "      <td>2.78</td>\n",
       "      <td>2.18</td>\n",
       "      <td>1.92</td>\n",
       "      <td>1.91</td>\n",
       "      <td>1.99</td>\n",
       "    </tr>\n",
       "    <tr>\n",
       "      <th>...</th>\n",
       "      <td>...</td>\n",
       "      <td>...</td>\n",
       "      <td>...</td>\n",
       "      <td>...</td>\n",
       "      <td>...</td>\n",
       "      <td>...</td>\n",
       "      <td>...</td>\n",
       "      <td>...</td>\n",
       "      <td>...</td>\n",
       "    </tr>\n",
       "    <tr>\n",
       "      <th>2022-08-01</th>\n",
       "      <td>3.13</td>\n",
       "      <td>2.90</td>\n",
       "      <td>3.03</td>\n",
       "      <td>3.23</td>\n",
       "      <td>3.25</td>\n",
       "      <td>3.28</td>\n",
       "      <td>3.15</td>\n",
       "      <td>2.72</td>\n",
       "      <td>2.28</td>\n",
       "    </tr>\n",
       "    <tr>\n",
       "      <th>2022-09-01</th>\n",
       "      <td>3.56</td>\n",
       "      <td>3.52</td>\n",
       "      <td>3.70</td>\n",
       "      <td>3.88</td>\n",
       "      <td>3.86</td>\n",
       "      <td>3.89</td>\n",
       "      <td>3.71</td>\n",
       "      <td>3.22</td>\n",
       "      <td>2.61</td>\n",
       "    </tr>\n",
       "    <tr>\n",
       "      <th>2022-10-01</th>\n",
       "      <td>4.04</td>\n",
       "      <td>3.98</td>\n",
       "      <td>4.18</td>\n",
       "      <td>4.38</td>\n",
       "      <td>4.38</td>\n",
       "      <td>4.43</td>\n",
       "      <td>4.31</td>\n",
       "      <td>3.87</td>\n",
       "      <td>3.32</td>\n",
       "    </tr>\n",
       "    <tr>\n",
       "      <th>2022-11-01</th>\n",
       "      <td>4.00</td>\n",
       "      <td>3.89</td>\n",
       "      <td>4.06</td>\n",
       "      <td>4.34</td>\n",
       "      <td>4.50</td>\n",
       "      <td>4.73</td>\n",
       "      <td>4.61</td>\n",
       "      <td>4.32</td>\n",
       "      <td>3.87</td>\n",
       "    </tr>\n",
       "    <tr>\n",
       "      <th>2022-12-01</th>\n",
       "      <td>3.66</td>\n",
       "      <td>3.62</td>\n",
       "      <td>3.76</td>\n",
       "      <td>4.05</td>\n",
       "      <td>4.29</td>\n",
       "      <td>4.68</td>\n",
       "      <td>4.71</td>\n",
       "      <td>4.36</td>\n",
       "      <td>3.90</td>\n",
       "    </tr>\n",
       "  </tbody>\n",
       "</table>\n",
       "<p>258 rows × 9 columns</p>\n",
       "</div>"
      ],
      "text/plain": [
       "            GS30  GS10   GS5   GS3   GS2   GS1  GS6m  GS3m  GS1m\n",
       "DATE                                                            \n",
       "2001-07-01  5.61  5.24  4.76  4.31  4.04  3.62  3.56  3.59  3.67\n",
       "2001-08-01  5.48  4.97  4.57  4.04  3.76  3.47  3.39  3.44  3.53\n",
       "2001-09-01  5.48  4.73  4.12  3.45  3.12  2.82  2.71  2.69  2.68\n",
       "2001-10-01  5.32  4.57  3.91  3.14  2.73  2.33  2.17  2.20  2.27\n",
       "2001-11-01  5.12  4.65  3.97  3.22  2.78  2.18  1.92  1.91  1.99\n",
       "...          ...   ...   ...   ...   ...   ...   ...   ...   ...\n",
       "2022-08-01  3.13  2.90  3.03  3.23  3.25  3.28  3.15  2.72  2.28\n",
       "2022-09-01  3.56  3.52  3.70  3.88  3.86  3.89  3.71  3.22  2.61\n",
       "2022-10-01  4.04  3.98  4.18  4.38  4.38  4.43  4.31  3.87  3.32\n",
       "2022-11-01  4.00  3.89  4.06  4.34  4.50  4.73  4.61  4.32  3.87\n",
       "2022-12-01  3.66  3.62  3.76  4.05  4.29  4.68  4.71  4.36  3.90\n",
       "\n",
       "[258 rows x 9 columns]"
      ]
     },
     "execution_count": 2,
     "metadata": {},
     "output_type": "execute_result"
    }
   ],
   "source": [
    "# Import Monthly US rates since 1982 from FRED St Louis\n",
    "start = '2000-01-01'\n",
    "tickers = ['GS30','GS10','GS5','GS3','GS2','GS1','GS6m','GS3m','GS1m']\n",
    "df = pdr.get_data_fred(tickers,start)\n",
    "df.dropna(inplace=True)\n",
    "df"
   ]
  },
  {
   "cell_type": "code",
   "execution_count": 3,
   "id": "ab28eccb-f9f9-471f-bbe8-c94d3895c67e",
   "metadata": {},
   "outputs": [
    {
     "data": {
      "text/html": [
       "<div>\n",
       "<style scoped>\n",
       "    .dataframe tbody tr th:only-of-type {\n",
       "        vertical-align: middle;\n",
       "    }\n",
       "\n",
       "    .dataframe tbody tr th {\n",
       "        vertical-align: top;\n",
       "    }\n",
       "\n",
       "    .dataframe thead th {\n",
       "        text-align: right;\n",
       "    }\n",
       "</style>\n",
       "<table border=\"1\" class=\"dataframe\">\n",
       "  <thead>\n",
       "    <tr style=\"text-align: right;\">\n",
       "      <th></th>\n",
       "      <th>GS1m</th>\n",
       "      <th>GS3m</th>\n",
       "      <th>GS6m</th>\n",
       "      <th>GS1</th>\n",
       "      <th>GS2</th>\n",
       "      <th>GS3</th>\n",
       "      <th>GS5</th>\n",
       "      <th>GS10</th>\n",
       "      <th>GS30</th>\n",
       "    </tr>\n",
       "    <tr>\n",
       "      <th>DATE</th>\n",
       "      <th></th>\n",
       "      <th></th>\n",
       "      <th></th>\n",
       "      <th></th>\n",
       "      <th></th>\n",
       "      <th></th>\n",
       "      <th></th>\n",
       "      <th></th>\n",
       "      <th></th>\n",
       "    </tr>\n",
       "  </thead>\n",
       "  <tbody>\n",
       "    <tr>\n",
       "      <th>2001-07-01</th>\n",
       "      <td>3.67</td>\n",
       "      <td>3.59</td>\n",
       "      <td>3.56</td>\n",
       "      <td>3.62</td>\n",
       "      <td>4.04</td>\n",
       "      <td>4.31</td>\n",
       "      <td>4.76</td>\n",
       "      <td>5.24</td>\n",
       "      <td>5.61</td>\n",
       "    </tr>\n",
       "    <tr>\n",
       "      <th>2001-08-01</th>\n",
       "      <td>3.53</td>\n",
       "      <td>3.44</td>\n",
       "      <td>3.39</td>\n",
       "      <td>3.47</td>\n",
       "      <td>3.76</td>\n",
       "      <td>4.04</td>\n",
       "      <td>4.57</td>\n",
       "      <td>4.97</td>\n",
       "      <td>5.48</td>\n",
       "    </tr>\n",
       "    <tr>\n",
       "      <th>2001-09-01</th>\n",
       "      <td>2.68</td>\n",
       "      <td>2.69</td>\n",
       "      <td>2.71</td>\n",
       "      <td>2.82</td>\n",
       "      <td>3.12</td>\n",
       "      <td>3.45</td>\n",
       "      <td>4.12</td>\n",
       "      <td>4.73</td>\n",
       "      <td>5.48</td>\n",
       "    </tr>\n",
       "    <tr>\n",
       "      <th>2001-10-01</th>\n",
       "      <td>2.27</td>\n",
       "      <td>2.20</td>\n",
       "      <td>2.17</td>\n",
       "      <td>2.33</td>\n",
       "      <td>2.73</td>\n",
       "      <td>3.14</td>\n",
       "      <td>3.91</td>\n",
       "      <td>4.57</td>\n",
       "      <td>5.32</td>\n",
       "    </tr>\n",
       "    <tr>\n",
       "      <th>2001-11-01</th>\n",
       "      <td>1.99</td>\n",
       "      <td>1.91</td>\n",
       "      <td>1.92</td>\n",
       "      <td>2.18</td>\n",
       "      <td>2.78</td>\n",
       "      <td>3.22</td>\n",
       "      <td>3.97</td>\n",
       "      <td>4.65</td>\n",
       "      <td>5.12</td>\n",
       "    </tr>\n",
       "    <tr>\n",
       "      <th>...</th>\n",
       "      <td>...</td>\n",
       "      <td>...</td>\n",
       "      <td>...</td>\n",
       "      <td>...</td>\n",
       "      <td>...</td>\n",
       "      <td>...</td>\n",
       "      <td>...</td>\n",
       "      <td>...</td>\n",
       "      <td>...</td>\n",
       "    </tr>\n",
       "    <tr>\n",
       "      <th>2022-08-01</th>\n",
       "      <td>2.28</td>\n",
       "      <td>2.72</td>\n",
       "      <td>3.15</td>\n",
       "      <td>3.28</td>\n",
       "      <td>3.25</td>\n",
       "      <td>3.23</td>\n",
       "      <td>3.03</td>\n",
       "      <td>2.90</td>\n",
       "      <td>3.13</td>\n",
       "    </tr>\n",
       "    <tr>\n",
       "      <th>2022-09-01</th>\n",
       "      <td>2.61</td>\n",
       "      <td>3.22</td>\n",
       "      <td>3.71</td>\n",
       "      <td>3.89</td>\n",
       "      <td>3.86</td>\n",
       "      <td>3.88</td>\n",
       "      <td>3.70</td>\n",
       "      <td>3.52</td>\n",
       "      <td>3.56</td>\n",
       "    </tr>\n",
       "    <tr>\n",
       "      <th>2022-10-01</th>\n",
       "      <td>3.32</td>\n",
       "      <td>3.87</td>\n",
       "      <td>4.31</td>\n",
       "      <td>4.43</td>\n",
       "      <td>4.38</td>\n",
       "      <td>4.38</td>\n",
       "      <td>4.18</td>\n",
       "      <td>3.98</td>\n",
       "      <td>4.04</td>\n",
       "    </tr>\n",
       "    <tr>\n",
       "      <th>2022-11-01</th>\n",
       "      <td>3.87</td>\n",
       "      <td>4.32</td>\n",
       "      <td>4.61</td>\n",
       "      <td>4.73</td>\n",
       "      <td>4.50</td>\n",
       "      <td>4.34</td>\n",
       "      <td>4.06</td>\n",
       "      <td>3.89</td>\n",
       "      <td>4.00</td>\n",
       "    </tr>\n",
       "    <tr>\n",
       "      <th>2022-12-01</th>\n",
       "      <td>3.90</td>\n",
       "      <td>4.36</td>\n",
       "      <td>4.71</td>\n",
       "      <td>4.68</td>\n",
       "      <td>4.29</td>\n",
       "      <td>4.05</td>\n",
       "      <td>3.76</td>\n",
       "      <td>3.62</td>\n",
       "      <td>3.66</td>\n",
       "    </tr>\n",
       "  </tbody>\n",
       "</table>\n",
       "<p>258 rows × 9 columns</p>\n",
       "</div>"
      ],
      "text/plain": [
       "            GS1m  GS3m  GS6m   GS1   GS2   GS3   GS5  GS10  GS30\n",
       "DATE                                                            \n",
       "2001-07-01  3.67  3.59  3.56  3.62  4.04  4.31  4.76  5.24  5.61\n",
       "2001-08-01  3.53  3.44  3.39  3.47  3.76  4.04  4.57  4.97  5.48\n",
       "2001-09-01  2.68  2.69  2.71  2.82  3.12  3.45  4.12  4.73  5.48\n",
       "2001-10-01  2.27  2.20  2.17  2.33  2.73  3.14  3.91  4.57  5.32\n",
       "2001-11-01  1.99  1.91  1.92  2.18  2.78  3.22  3.97  4.65  5.12\n",
       "...          ...   ...   ...   ...   ...   ...   ...   ...   ...\n",
       "2022-08-01  2.28  2.72  3.15  3.28  3.25  3.23  3.03  2.90  3.13\n",
       "2022-09-01  2.61  3.22  3.71  3.89  3.86  3.88  3.70  3.52  3.56\n",
       "2022-10-01  3.32  3.87  4.31  4.43  4.38  4.38  4.18  3.98  4.04\n",
       "2022-11-01  3.87  4.32  4.61  4.73  4.50  4.34  4.06  3.89  4.00\n",
       "2022-12-01  3.90  4.36  4.71  4.68  4.29  4.05  3.76  3.62  3.66\n",
       "\n",
       "[258 rows x 9 columns]"
      ]
     },
     "execution_count": 3,
     "metadata": {},
     "output_type": "execute_result"
    }
   ],
   "source": [
    "df_rev = df.iloc[:, ::-1]\n",
    "df_rev"
   ]
  },
  {
   "cell_type": "code",
   "execution_count": 7,
   "id": "1b2fec90-233f-4850-842e-d215ac48b4b9",
   "metadata": {},
   "outputs": [
    {
     "name": "stderr",
     "output_type": "stream",
     "text": [
      "/var/folders/sr/2_q1kwss0cg7rt_ny655psg80000gn/T/ipykernel_10217/823276337.py:1: FutureWarning:\n",
      "\n",
      "Indexing a DataFrame with a datetimelike index using a single string to slice the rows, like `frame[string]`, is deprecated and will be removed in a future version. Use `frame.loc[string]` instead.\n",
      "\n"
     ]
    },
    {
     "data": {
      "text/html": [
       "<div>\n",
       "<style scoped>\n",
       "    .dataframe tbody tr th:only-of-type {\n",
       "        vertical-align: middle;\n",
       "    }\n",
       "\n",
       "    .dataframe tbody tr th {\n",
       "        vertical-align: top;\n",
       "    }\n",
       "\n",
       "    .dataframe thead th {\n",
       "        text-align: right;\n",
       "    }\n",
       "</style>\n",
       "<table border=\"1\" class=\"dataframe\">\n",
       "  <thead>\n",
       "    <tr style=\"text-align: right;\">\n",
       "      <th></th>\n",
       "      <th>DATE</th>\n",
       "      <th>Maturity</th>\n",
       "      <th>Yield</th>\n",
       "    </tr>\n",
       "  </thead>\n",
       "  <tbody>\n",
       "    <tr>\n",
       "      <th>0</th>\n",
       "      <td>2022-01</td>\n",
       "      <td>GS1m</td>\n",
       "      <td>0.05</td>\n",
       "    </tr>\n",
       "    <tr>\n",
       "      <th>1</th>\n",
       "      <td>2022-02</td>\n",
       "      <td>GS1m</td>\n",
       "      <td>0.04</td>\n",
       "    </tr>\n",
       "    <tr>\n",
       "      <th>2</th>\n",
       "      <td>2022-03</td>\n",
       "      <td>GS1m</td>\n",
       "      <td>0.18</td>\n",
       "    </tr>\n",
       "    <tr>\n",
       "      <th>3</th>\n",
       "      <td>2022-04</td>\n",
       "      <td>GS1m</td>\n",
       "      <td>0.31</td>\n",
       "    </tr>\n",
       "    <tr>\n",
       "      <th>4</th>\n",
       "      <td>2022-05</td>\n",
       "      <td>GS1m</td>\n",
       "      <td>0.58</td>\n",
       "    </tr>\n",
       "    <tr>\n",
       "      <th>...</th>\n",
       "      <td>...</td>\n",
       "      <td>...</td>\n",
       "      <td>...</td>\n",
       "    </tr>\n",
       "    <tr>\n",
       "      <th>103</th>\n",
       "      <td>2022-08</td>\n",
       "      <td>GS30</td>\n",
       "      <td>3.13</td>\n",
       "    </tr>\n",
       "    <tr>\n",
       "      <th>104</th>\n",
       "      <td>2022-09</td>\n",
       "      <td>GS30</td>\n",
       "      <td>3.56</td>\n",
       "    </tr>\n",
       "    <tr>\n",
       "      <th>105</th>\n",
       "      <td>2022-10</td>\n",
       "      <td>GS30</td>\n",
       "      <td>4.04</td>\n",
       "    </tr>\n",
       "    <tr>\n",
       "      <th>106</th>\n",
       "      <td>2022-11</td>\n",
       "      <td>GS30</td>\n",
       "      <td>4.00</td>\n",
       "    </tr>\n",
       "    <tr>\n",
       "      <th>107</th>\n",
       "      <td>2022-12</td>\n",
       "      <td>GS30</td>\n",
       "      <td>3.66</td>\n",
       "    </tr>\n",
       "  </tbody>\n",
       "</table>\n",
       "<p>108 rows × 3 columns</p>\n",
       "</div>"
      ],
      "text/plain": [
       "        DATE Maturity  Yield\n",
       "0    2022-01     GS1m   0.05\n",
       "1    2022-02     GS1m   0.04\n",
       "2    2022-03     GS1m   0.18\n",
       "3    2022-04     GS1m   0.31\n",
       "4    2022-05     GS1m   0.58\n",
       "..       ...      ...    ...\n",
       "103  2022-08     GS30   3.13\n",
       "104  2022-09     GS30   3.56\n",
       "105  2022-10     GS30   4.04\n",
       "106  2022-11     GS30   4.00\n",
       "107  2022-12     GS30   3.66\n",
       "\n",
       "[108 rows x 3 columns]"
      ]
     },
     "execution_count": 7,
     "metadata": {},
     "output_type": "execute_result"
    }
   ],
   "source": [
    "tabular_df = pd.melt(df_rev['2022'].reset_index(), id_vars='DATE', value_vars=df_rev.columns, var_name='Maturity', value_name='Yield')\n",
    "tabular_df['DATE'] = tabular_df['DATE'].dt.strftime('%Y-%m')\n",
    "tabular_df"
   ]
  },
  {
   "cell_type": "code",
   "execution_count": 8,
   "id": "0469f51b-71f9-468d-a7c8-c4fb700347ef",
   "metadata": {
    "tags": []
   },
   "outputs": [
    {
     "data": {
      "application/vnd.plotly.v1+json": {
       "config": {
        "plotlyServerURL": "https://plot.ly"
       },
       "data": [
        {
         "hovertemplate": "DATE=2022-01<br>Maturity=%{x}<br>Yield=%{text}<extra></extra>",
         "ids": [
          "GS1m",
          "GS3m",
          "GS6m",
          "GS1",
          "GS2",
          "GS3",
          "GS5",
          "GS10",
          "GS30"
         ],
         "legendgroup": "",
         "line": {
          "color": "#636efa",
          "dash": "solid"
         },
         "marker": {
          "symbol": "circle"
         },
         "mode": "markers+text",
         "name": "",
         "orientation": "v",
         "showlegend": false,
         "text": [
          0.05,
          0.15,
          0.33,
          0.55,
          0.98,
          1.25,
          1.54,
          1.76,
          2.1
         ],
         "textfont": {
          "family": "Arial",
          "size": 14
         },
         "textposition": "top center",
         "type": "scatter",
         "x": [
          "GS1m",
          "GS3m",
          "GS6m",
          "GS1",
          "GS2",
          "GS3",
          "GS5",
          "GS10",
          "GS30"
         ],
         "xaxis": "x",
         "y": [
          0.05,
          0.15,
          0.33,
          0.55,
          0.98,
          1.25,
          1.54,
          1.76,
          2.1
         ],
         "yaxis": "y"
        }
       ],
       "frames": [
        {
         "data": [
          {
           "hovertemplate": "DATE=2022-01<br>Maturity=%{x}<br>Yield=%{text}<extra></extra>",
           "ids": [
            "GS1m",
            "GS3m",
            "GS6m",
            "GS1",
            "GS2",
            "GS3",
            "GS5",
            "GS10",
            "GS30"
           ],
           "legendgroup": "",
           "line": {
            "color": "#636efa",
            "dash": "solid"
           },
           "marker": {
            "symbol": "circle"
           },
           "mode": "markers+lines+text",
           "name": "",
           "orientation": "v",
           "showlegend": false,
           "text": [
            0.05,
            0.15,
            0.33,
            0.55,
            0.98,
            1.25,
            1.54,
            1.76,
            2.1
           ],
           "type": "scatter",
           "x": [
            "GS1m",
            "GS3m",
            "GS6m",
            "GS1",
            "GS2",
            "GS3",
            "GS5",
            "GS10",
            "GS30"
           ],
           "xaxis": "x",
           "y": [
            0.05,
            0.15,
            0.33,
            0.55,
            0.98,
            1.25,
            1.54,
            1.76,
            2.1
           ],
           "yaxis": "y"
          }
         ],
         "name": "2022-01"
        },
        {
         "data": [
          {
           "hovertemplate": "DATE=2022-02<br>Maturity=%{x}<br>Yield=%{text}<extra></extra>",
           "ids": [
            "GS1m",
            "GS3m",
            "GS6m",
            "GS1",
            "GS2",
            "GS3",
            "GS5",
            "GS10",
            "GS30"
           ],
           "legendgroup": "",
           "line": {
            "color": "#636efa",
            "dash": "solid"
           },
           "marker": {
            "symbol": "circle"
           },
           "mode": "markers+lines+text",
           "name": "",
           "orientation": "v",
           "showlegend": false,
           "text": [
            0.04,
            0.31,
            0.64,
            1,
            1.44,
            1.65,
            1.81,
            1.93,
            2.25
           ],
           "type": "scatter",
           "x": [
            "GS1m",
            "GS3m",
            "GS6m",
            "GS1",
            "GS2",
            "GS3",
            "GS5",
            "GS10",
            "GS30"
           ],
           "xaxis": "x",
           "y": [
            0.04,
            0.31,
            0.64,
            1,
            1.44,
            1.65,
            1.81,
            1.93,
            2.25
           ],
           "yaxis": "y"
          }
         ],
         "name": "2022-02"
        },
        {
         "data": [
          {
           "hovertemplate": "DATE=2022-03<br>Maturity=%{x}<br>Yield=%{text}<extra></extra>",
           "ids": [
            "GS1m",
            "GS3m",
            "GS6m",
            "GS1",
            "GS2",
            "GS3",
            "GS5",
            "GS10",
            "GS30"
           ],
           "legendgroup": "",
           "line": {
            "color": "#636efa",
            "dash": "solid"
           },
           "marker": {
            "symbol": "circle"
           },
           "mode": "markers+lines+text",
           "name": "",
           "orientation": "v",
           "showlegend": false,
           "text": [
            0.18,
            0.45,
            0.86,
            1.34,
            1.91,
            2.09,
            2.11,
            2.13,
            2.41
           ],
           "type": "scatter",
           "x": [
            "GS1m",
            "GS3m",
            "GS6m",
            "GS1",
            "GS2",
            "GS3",
            "GS5",
            "GS10",
            "GS30"
           ],
           "xaxis": "x",
           "y": [
            0.18,
            0.45,
            0.86,
            1.34,
            1.91,
            2.09,
            2.11,
            2.13,
            2.41
           ],
           "yaxis": "y"
          }
         ],
         "name": "2022-03"
        },
        {
         "data": [
          {
           "hovertemplate": "DATE=2022-04<br>Maturity=%{x}<br>Yield=%{text}<extra></extra>",
           "ids": [
            "GS1m",
            "GS3m",
            "GS6m",
            "GS1",
            "GS2",
            "GS3",
            "GS5",
            "GS10",
            "GS30"
           ],
           "legendgroup": "",
           "line": {
            "color": "#636efa",
            "dash": "solid"
           },
           "marker": {
            "symbol": "circle"
           },
           "mode": "markers+lines+text",
           "name": "",
           "orientation": "v",
           "showlegend": false,
           "text": [
            0.31,
            0.76,
            1.26,
            1.89,
            2.54,
            2.72,
            2.78,
            2.75,
            2.81
           ],
           "type": "scatter",
           "x": [
            "GS1m",
            "GS3m",
            "GS6m",
            "GS1",
            "GS2",
            "GS3",
            "GS5",
            "GS10",
            "GS30"
           ],
           "xaxis": "x",
           "y": [
            0.31,
            0.76,
            1.26,
            1.89,
            2.54,
            2.72,
            2.78,
            2.75,
            2.81
           ],
           "yaxis": "y"
          }
         ],
         "name": "2022-04"
        },
        {
         "data": [
          {
           "hovertemplate": "DATE=2022-05<br>Maturity=%{x}<br>Yield=%{text}<extra></extra>",
           "ids": [
            "GS1m",
            "GS3m",
            "GS6m",
            "GS1",
            "GS2",
            "GS3",
            "GS5",
            "GS10",
            "GS30"
           ],
           "legendgroup": "",
           "line": {
            "color": "#636efa",
            "dash": "solid"
           },
           "marker": {
            "symbol": "circle"
           },
           "mode": "markers+lines+text",
           "name": "",
           "orientation": "v",
           "showlegend": false,
           "text": [
            0.58,
            0.99,
            1.49,
            2.06,
            2.62,
            2.79,
            2.87,
            2.9,
            3.07
           ],
           "type": "scatter",
           "x": [
            "GS1m",
            "GS3m",
            "GS6m",
            "GS1",
            "GS2",
            "GS3",
            "GS5",
            "GS10",
            "GS30"
           ],
           "xaxis": "x",
           "y": [
            0.58,
            0.99,
            1.49,
            2.06,
            2.62,
            2.79,
            2.87,
            2.9,
            3.07
           ],
           "yaxis": "y"
          }
         ],
         "name": "2022-05"
        },
        {
         "data": [
          {
           "hovertemplate": "DATE=2022-06<br>Maturity=%{x}<br>Yield=%{text}<extra></extra>",
           "ids": [
            "GS1m",
            "GS3m",
            "GS6m",
            "GS1",
            "GS2",
            "GS3",
            "GS5",
            "GS10",
            "GS30"
           ],
           "legendgroup": "",
           "line": {
            "color": "#636efa",
            "dash": "solid"
           },
           "marker": {
            "symbol": "circle"
           },
           "mode": "markers+lines+text",
           "name": "",
           "orientation": "v",
           "showlegend": false,
           "text": [
            1.06,
            1.54,
            2.17,
            2.65,
            3,
            3.15,
            3.19,
            3.14,
            3.25
           ],
           "type": "scatter",
           "x": [
            "GS1m",
            "GS3m",
            "GS6m",
            "GS1",
            "GS2",
            "GS3",
            "GS5",
            "GS10",
            "GS30"
           ],
           "xaxis": "x",
           "y": [
            1.06,
            1.54,
            2.17,
            2.65,
            3,
            3.15,
            3.19,
            3.14,
            3.25
           ],
           "yaxis": "y"
          }
         ],
         "name": "2022-06"
        },
        {
         "data": [
          {
           "hovertemplate": "DATE=2022-07<br>Maturity=%{x}<br>Yield=%{text}<extra></extra>",
           "ids": [
            "GS1m",
            "GS3m",
            "GS6m",
            "GS1",
            "GS2",
            "GS3",
            "GS5",
            "GS10",
            "GS30"
           ],
           "legendgroup": "",
           "line": {
            "color": "#636efa",
            "dash": "solid"
           },
           "marker": {
            "symbol": "circle"
           },
           "mode": "markers+lines+text",
           "name": "",
           "orientation": "v",
           "showlegend": false,
           "text": [
            1.85,
            2.3,
            2.87,
            3.02,
            3.04,
            3.03,
            2.96,
            2.9,
            3.1
           ],
           "type": "scatter",
           "x": [
            "GS1m",
            "GS3m",
            "GS6m",
            "GS1",
            "GS2",
            "GS3",
            "GS5",
            "GS10",
            "GS30"
           ],
           "xaxis": "x",
           "y": [
            1.85,
            2.3,
            2.87,
            3.02,
            3.04,
            3.03,
            2.96,
            2.9,
            3.1
           ],
           "yaxis": "y"
          }
         ],
         "name": "2022-07"
        },
        {
         "data": [
          {
           "hovertemplate": "DATE=2022-08<br>Maturity=%{x}<br>Yield=%{text}<extra></extra>",
           "ids": [
            "GS1m",
            "GS3m",
            "GS6m",
            "GS1",
            "GS2",
            "GS3",
            "GS5",
            "GS10",
            "GS30"
           ],
           "legendgroup": "",
           "line": {
            "color": "#636efa",
            "dash": "solid"
           },
           "marker": {
            "symbol": "circle"
           },
           "mode": "markers+lines+text",
           "name": "",
           "orientation": "v",
           "showlegend": false,
           "text": [
            2.28,
            2.72,
            3.15,
            3.28,
            3.25,
            3.23,
            3.03,
            2.9,
            3.13
           ],
           "type": "scatter",
           "x": [
            "GS1m",
            "GS3m",
            "GS6m",
            "GS1",
            "GS2",
            "GS3",
            "GS5",
            "GS10",
            "GS30"
           ],
           "xaxis": "x",
           "y": [
            2.28,
            2.72,
            3.15,
            3.28,
            3.25,
            3.23,
            3.03,
            2.9,
            3.13
           ],
           "yaxis": "y"
          }
         ],
         "name": "2022-08"
        },
        {
         "data": [
          {
           "hovertemplate": "DATE=2022-09<br>Maturity=%{x}<br>Yield=%{text}<extra></extra>",
           "ids": [
            "GS1m",
            "GS3m",
            "GS6m",
            "GS1",
            "GS2",
            "GS3",
            "GS5",
            "GS10",
            "GS30"
           ],
           "legendgroup": "",
           "line": {
            "color": "#636efa",
            "dash": "solid"
           },
           "marker": {
            "symbol": "circle"
           },
           "mode": "markers+lines+text",
           "name": "",
           "orientation": "v",
           "showlegend": false,
           "text": [
            2.61,
            3.22,
            3.71,
            3.89,
            3.86,
            3.88,
            3.7,
            3.52,
            3.56
           ],
           "type": "scatter",
           "x": [
            "GS1m",
            "GS3m",
            "GS6m",
            "GS1",
            "GS2",
            "GS3",
            "GS5",
            "GS10",
            "GS30"
           ],
           "xaxis": "x",
           "y": [
            2.61,
            3.22,
            3.71,
            3.89,
            3.86,
            3.88,
            3.7,
            3.52,
            3.56
           ],
           "yaxis": "y"
          }
         ],
         "name": "2022-09"
        },
        {
         "data": [
          {
           "hovertemplate": "DATE=2022-10<br>Maturity=%{x}<br>Yield=%{text}<extra></extra>",
           "ids": [
            "GS1m",
            "GS3m",
            "GS6m",
            "GS1",
            "GS2",
            "GS3",
            "GS5",
            "GS10",
            "GS30"
           ],
           "legendgroup": "",
           "line": {
            "color": "#636efa",
            "dash": "solid"
           },
           "marker": {
            "symbol": "circle"
           },
           "mode": "markers+lines+text",
           "name": "",
           "orientation": "v",
           "showlegend": false,
           "text": [
            3.32,
            3.87,
            4.31,
            4.43,
            4.38,
            4.38,
            4.18,
            3.98,
            4.04
           ],
           "type": "scatter",
           "x": [
            "GS1m",
            "GS3m",
            "GS6m",
            "GS1",
            "GS2",
            "GS3",
            "GS5",
            "GS10",
            "GS30"
           ],
           "xaxis": "x",
           "y": [
            3.32,
            3.87,
            4.31,
            4.43,
            4.38,
            4.38,
            4.18,
            3.98,
            4.04
           ],
           "yaxis": "y"
          }
         ],
         "name": "2022-10"
        },
        {
         "data": [
          {
           "hovertemplate": "DATE=2022-11<br>Maturity=%{x}<br>Yield=%{text}<extra></extra>",
           "ids": [
            "GS1m",
            "GS3m",
            "GS6m",
            "GS1",
            "GS2",
            "GS3",
            "GS5",
            "GS10",
            "GS30"
           ],
           "legendgroup": "",
           "line": {
            "color": "#636efa",
            "dash": "solid"
           },
           "marker": {
            "symbol": "circle"
           },
           "mode": "markers+lines+text",
           "name": "",
           "orientation": "v",
           "showlegend": false,
           "text": [
            3.87,
            4.32,
            4.61,
            4.73,
            4.5,
            4.34,
            4.06,
            3.89,
            4
           ],
           "type": "scatter",
           "x": [
            "GS1m",
            "GS3m",
            "GS6m",
            "GS1",
            "GS2",
            "GS3",
            "GS5",
            "GS10",
            "GS30"
           ],
           "xaxis": "x",
           "y": [
            3.87,
            4.32,
            4.61,
            4.73,
            4.5,
            4.34,
            4.06,
            3.89,
            4
           ],
           "yaxis": "y"
          }
         ],
         "name": "2022-11"
        },
        {
         "data": [
          {
           "hovertemplate": "DATE=2022-12<br>Maturity=%{x}<br>Yield=%{text}<extra></extra>",
           "ids": [
            "GS1m",
            "GS3m",
            "GS6m",
            "GS1",
            "GS2",
            "GS3",
            "GS5",
            "GS10",
            "GS30"
           ],
           "legendgroup": "",
           "line": {
            "color": "#636efa",
            "dash": "solid"
           },
           "marker": {
            "symbol": "circle"
           },
           "mode": "markers+lines+text",
           "name": "",
           "orientation": "v",
           "showlegend": false,
           "text": [
            3.9,
            4.36,
            4.71,
            4.68,
            4.29,
            4.05,
            3.76,
            3.62,
            3.66
           ],
           "type": "scatter",
           "x": [
            "GS1m",
            "GS3m",
            "GS6m",
            "GS1",
            "GS2",
            "GS3",
            "GS5",
            "GS10",
            "GS30"
           ],
           "xaxis": "x",
           "y": [
            3.9,
            4.36,
            4.71,
            4.68,
            4.29,
            4.05,
            3.76,
            3.62,
            3.66
           ],
           "yaxis": "y"
          }
         ],
         "name": "2022-12"
        }
       ],
       "layout": {
        "autosize": true,
        "height": 600,
        "legend": {
         "tracegroupgap": 0
        },
        "margin": {
         "t": 60
        },
        "sliders": [
         {
          "active": 0,
          "currentvalue": {
           "prefix": "DATE="
          },
          "len": 0.9,
          "pad": {
           "b": 10,
           "t": 60
          },
          "steps": [
           {
            "args": [
             [
              "2022-01"
             ],
             {
              "frame": {
               "duration": 0,
               "redraw": false
              },
              "fromcurrent": true,
              "mode": "immediate",
              "transition": {
               "duration": 0,
               "easing": "linear"
              }
             }
            ],
            "label": "2022-01",
            "method": "animate"
           },
           {
            "args": [
             [
              "2022-02"
             ],
             {
              "frame": {
               "duration": 0,
               "redraw": false
              },
              "fromcurrent": true,
              "mode": "immediate",
              "transition": {
               "duration": 0,
               "easing": "linear"
              }
             }
            ],
            "label": "2022-02",
            "method": "animate"
           },
           {
            "args": [
             [
              "2022-03"
             ],
             {
              "frame": {
               "duration": 0,
               "redraw": false
              },
              "fromcurrent": true,
              "mode": "immediate",
              "transition": {
               "duration": 0,
               "easing": "linear"
              }
             }
            ],
            "label": "2022-03",
            "method": "animate"
           },
           {
            "args": [
             [
              "2022-04"
             ],
             {
              "frame": {
               "duration": 0,
               "redraw": false
              },
              "fromcurrent": true,
              "mode": "immediate",
              "transition": {
               "duration": 0,
               "easing": "linear"
              }
             }
            ],
            "label": "2022-04",
            "method": "animate"
           },
           {
            "args": [
             [
              "2022-05"
             ],
             {
              "frame": {
               "duration": 0,
               "redraw": false
              },
              "fromcurrent": true,
              "mode": "immediate",
              "transition": {
               "duration": 0,
               "easing": "linear"
              }
             }
            ],
            "label": "2022-05",
            "method": "animate"
           },
           {
            "args": [
             [
              "2022-06"
             ],
             {
              "frame": {
               "duration": 0,
               "redraw": false
              },
              "fromcurrent": true,
              "mode": "immediate",
              "transition": {
               "duration": 0,
               "easing": "linear"
              }
             }
            ],
            "label": "2022-06",
            "method": "animate"
           },
           {
            "args": [
             [
              "2022-07"
             ],
             {
              "frame": {
               "duration": 0,
               "redraw": false
              },
              "fromcurrent": true,
              "mode": "immediate",
              "transition": {
               "duration": 0,
               "easing": "linear"
              }
             }
            ],
            "label": "2022-07",
            "method": "animate"
           },
           {
            "args": [
             [
              "2022-08"
             ],
             {
              "frame": {
               "duration": 0,
               "redraw": false
              },
              "fromcurrent": true,
              "mode": "immediate",
              "transition": {
               "duration": 0,
               "easing": "linear"
              }
             }
            ],
            "label": "2022-08",
            "method": "animate"
           },
           {
            "args": [
             [
              "2022-09"
             ],
             {
              "frame": {
               "duration": 0,
               "redraw": false
              },
              "fromcurrent": true,
              "mode": "immediate",
              "transition": {
               "duration": 0,
               "easing": "linear"
              }
             }
            ],
            "label": "2022-09",
            "method": "animate"
           },
           {
            "args": [
             [
              "2022-10"
             ],
             {
              "frame": {
               "duration": 0,
               "redraw": false
              },
              "fromcurrent": true,
              "mode": "immediate",
              "transition": {
               "duration": 0,
               "easing": "linear"
              }
             }
            ],
            "label": "2022-10",
            "method": "animate"
           },
           {
            "args": [
             [
              "2022-11"
             ],
             {
              "frame": {
               "duration": 0,
               "redraw": false
              },
              "fromcurrent": true,
              "mode": "immediate",
              "transition": {
               "duration": 0,
               "easing": "linear"
              }
             }
            ],
            "label": "2022-11",
            "method": "animate"
           },
           {
            "args": [
             [
              "2022-12"
             ],
             {
              "frame": {
               "duration": 0,
               "redraw": false
              },
              "fromcurrent": true,
              "mode": "immediate",
              "transition": {
               "duration": 0,
               "easing": "linear"
              }
             }
            ],
            "label": "2022-12",
            "method": "animate"
           }
          ],
          "x": 0.1,
          "xanchor": "left",
          "y": 0,
          "yanchor": "top"
         }
        ],
        "template": {
         "data": {
          "bar": [
           {
            "error_x": {
             "color": "#2a3f5f"
            },
            "error_y": {
             "color": "#2a3f5f"
            },
            "marker": {
             "line": {
              "color": "#E5ECF6",
              "width": 0.5
             },
             "pattern": {
              "fillmode": "overlay",
              "size": 10,
              "solidity": 0.2
             }
            },
            "type": "bar"
           }
          ],
          "barpolar": [
           {
            "marker": {
             "line": {
              "color": "#E5ECF6",
              "width": 0.5
             },
             "pattern": {
              "fillmode": "overlay",
              "size": 10,
              "solidity": 0.2
             }
            },
            "type": "barpolar"
           }
          ],
          "carpet": [
           {
            "aaxis": {
             "endlinecolor": "#2a3f5f",
             "gridcolor": "white",
             "linecolor": "white",
             "minorgridcolor": "white",
             "startlinecolor": "#2a3f5f"
            },
            "baxis": {
             "endlinecolor": "#2a3f5f",
             "gridcolor": "white",
             "linecolor": "white",
             "minorgridcolor": "white",
             "startlinecolor": "#2a3f5f"
            },
            "type": "carpet"
           }
          ],
          "choropleth": [
           {
            "colorbar": {
             "outlinewidth": 0,
             "ticks": ""
            },
            "type": "choropleth"
           }
          ],
          "contour": [
           {
            "colorbar": {
             "outlinewidth": 0,
             "ticks": ""
            },
            "colorscale": [
             [
              0,
              "#0d0887"
             ],
             [
              0.1111111111111111,
              "#46039f"
             ],
             [
              0.2222222222222222,
              "#7201a8"
             ],
             [
              0.3333333333333333,
              "#9c179e"
             ],
             [
              0.4444444444444444,
              "#bd3786"
             ],
             [
              0.5555555555555556,
              "#d8576b"
             ],
             [
              0.6666666666666666,
              "#ed7953"
             ],
             [
              0.7777777777777778,
              "#fb9f3a"
             ],
             [
              0.8888888888888888,
              "#fdca26"
             ],
             [
              1,
              "#f0f921"
             ]
            ],
            "type": "contour"
           }
          ],
          "contourcarpet": [
           {
            "colorbar": {
             "outlinewidth": 0,
             "ticks": ""
            },
            "type": "contourcarpet"
           }
          ],
          "heatmap": [
           {
            "colorbar": {
             "outlinewidth": 0,
             "ticks": ""
            },
            "colorscale": [
             [
              0,
              "#0d0887"
             ],
             [
              0.1111111111111111,
              "#46039f"
             ],
             [
              0.2222222222222222,
              "#7201a8"
             ],
             [
              0.3333333333333333,
              "#9c179e"
             ],
             [
              0.4444444444444444,
              "#bd3786"
             ],
             [
              0.5555555555555556,
              "#d8576b"
             ],
             [
              0.6666666666666666,
              "#ed7953"
             ],
             [
              0.7777777777777778,
              "#fb9f3a"
             ],
             [
              0.8888888888888888,
              "#fdca26"
             ],
             [
              1,
              "#f0f921"
             ]
            ],
            "type": "heatmap"
           }
          ],
          "heatmapgl": [
           {
            "colorbar": {
             "outlinewidth": 0,
             "ticks": ""
            },
            "colorscale": [
             [
              0,
              "#0d0887"
             ],
             [
              0.1111111111111111,
              "#46039f"
             ],
             [
              0.2222222222222222,
              "#7201a8"
             ],
             [
              0.3333333333333333,
              "#9c179e"
             ],
             [
              0.4444444444444444,
              "#bd3786"
             ],
             [
              0.5555555555555556,
              "#d8576b"
             ],
             [
              0.6666666666666666,
              "#ed7953"
             ],
             [
              0.7777777777777778,
              "#fb9f3a"
             ],
             [
              0.8888888888888888,
              "#fdca26"
             ],
             [
              1,
              "#f0f921"
             ]
            ],
            "type": "heatmapgl"
           }
          ],
          "histogram": [
           {
            "marker": {
             "pattern": {
              "fillmode": "overlay",
              "size": 10,
              "solidity": 0.2
             }
            },
            "type": "histogram"
           }
          ],
          "histogram2d": [
           {
            "colorbar": {
             "outlinewidth": 0,
             "ticks": ""
            },
            "colorscale": [
             [
              0,
              "#0d0887"
             ],
             [
              0.1111111111111111,
              "#46039f"
             ],
             [
              0.2222222222222222,
              "#7201a8"
             ],
             [
              0.3333333333333333,
              "#9c179e"
             ],
             [
              0.4444444444444444,
              "#bd3786"
             ],
             [
              0.5555555555555556,
              "#d8576b"
             ],
             [
              0.6666666666666666,
              "#ed7953"
             ],
             [
              0.7777777777777778,
              "#fb9f3a"
             ],
             [
              0.8888888888888888,
              "#fdca26"
             ],
             [
              1,
              "#f0f921"
             ]
            ],
            "type": "histogram2d"
           }
          ],
          "histogram2dcontour": [
           {
            "colorbar": {
             "outlinewidth": 0,
             "ticks": ""
            },
            "colorscale": [
             [
              0,
              "#0d0887"
             ],
             [
              0.1111111111111111,
              "#46039f"
             ],
             [
              0.2222222222222222,
              "#7201a8"
             ],
             [
              0.3333333333333333,
              "#9c179e"
             ],
             [
              0.4444444444444444,
              "#bd3786"
             ],
             [
              0.5555555555555556,
              "#d8576b"
             ],
             [
              0.6666666666666666,
              "#ed7953"
             ],
             [
              0.7777777777777778,
              "#fb9f3a"
             ],
             [
              0.8888888888888888,
              "#fdca26"
             ],
             [
              1,
              "#f0f921"
             ]
            ],
            "type": "histogram2dcontour"
           }
          ],
          "mesh3d": [
           {
            "colorbar": {
             "outlinewidth": 0,
             "ticks": ""
            },
            "type": "mesh3d"
           }
          ],
          "parcoords": [
           {
            "line": {
             "colorbar": {
              "outlinewidth": 0,
              "ticks": ""
             }
            },
            "type": "parcoords"
           }
          ],
          "pie": [
           {
            "automargin": true,
            "type": "pie"
           }
          ],
          "scatter": [
           {
            "marker": {
             "colorbar": {
              "outlinewidth": 0,
              "ticks": ""
             }
            },
            "type": "scatter"
           }
          ],
          "scatter3d": [
           {
            "line": {
             "colorbar": {
              "outlinewidth": 0,
              "ticks": ""
             }
            },
            "marker": {
             "colorbar": {
              "outlinewidth": 0,
              "ticks": ""
             }
            },
            "type": "scatter3d"
           }
          ],
          "scattercarpet": [
           {
            "marker": {
             "colorbar": {
              "outlinewidth": 0,
              "ticks": ""
             }
            },
            "type": "scattercarpet"
           }
          ],
          "scattergeo": [
           {
            "marker": {
             "colorbar": {
              "outlinewidth": 0,
              "ticks": ""
             }
            },
            "type": "scattergeo"
           }
          ],
          "scattergl": [
           {
            "marker": {
             "colorbar": {
              "outlinewidth": 0,
              "ticks": ""
             }
            },
            "type": "scattergl"
           }
          ],
          "scattermapbox": [
           {
            "marker": {
             "colorbar": {
              "outlinewidth": 0,
              "ticks": ""
             }
            },
            "type": "scattermapbox"
           }
          ],
          "scatterpolar": [
           {
            "marker": {
             "colorbar": {
              "outlinewidth": 0,
              "ticks": ""
             }
            },
            "type": "scatterpolar"
           }
          ],
          "scatterpolargl": [
           {
            "marker": {
             "colorbar": {
              "outlinewidth": 0,
              "ticks": ""
             }
            },
            "type": "scatterpolargl"
           }
          ],
          "scatterternary": [
           {
            "marker": {
             "colorbar": {
              "outlinewidth": 0,
              "ticks": ""
             }
            },
            "type": "scatterternary"
           }
          ],
          "surface": [
           {
            "colorbar": {
             "outlinewidth": 0,
             "ticks": ""
            },
            "colorscale": [
             [
              0,
              "#0d0887"
             ],
             [
              0.1111111111111111,
              "#46039f"
             ],
             [
              0.2222222222222222,
              "#7201a8"
             ],
             [
              0.3333333333333333,
              "#9c179e"
             ],
             [
              0.4444444444444444,
              "#bd3786"
             ],
             [
              0.5555555555555556,
              "#d8576b"
             ],
             [
              0.6666666666666666,
              "#ed7953"
             ],
             [
              0.7777777777777778,
              "#fb9f3a"
             ],
             [
              0.8888888888888888,
              "#fdca26"
             ],
             [
              1,
              "#f0f921"
             ]
            ],
            "type": "surface"
           }
          ],
          "table": [
           {
            "cells": {
             "fill": {
              "color": "#EBF0F8"
             },
             "line": {
              "color": "white"
             }
            },
            "header": {
             "fill": {
              "color": "#C8D4E3"
             },
             "line": {
              "color": "white"
             }
            },
            "type": "table"
           }
          ]
         },
         "layout": {
          "annotationdefaults": {
           "arrowcolor": "#2a3f5f",
           "arrowhead": 0,
           "arrowwidth": 1
          },
          "autotypenumbers": "strict",
          "coloraxis": {
           "colorbar": {
            "outlinewidth": 0,
            "ticks": ""
           }
          },
          "colorscale": {
           "diverging": [
            [
             0,
             "#8e0152"
            ],
            [
             0.1,
             "#c51b7d"
            ],
            [
             0.2,
             "#de77ae"
            ],
            [
             0.3,
             "#f1b6da"
            ],
            [
             0.4,
             "#fde0ef"
            ],
            [
             0.5,
             "#f7f7f7"
            ],
            [
             0.6,
             "#e6f5d0"
            ],
            [
             0.7,
             "#b8e186"
            ],
            [
             0.8,
             "#7fbc41"
            ],
            [
             0.9,
             "#4d9221"
            ],
            [
             1,
             "#276419"
            ]
           ],
           "sequential": [
            [
             0,
             "#0d0887"
            ],
            [
             0.1111111111111111,
             "#46039f"
            ],
            [
             0.2222222222222222,
             "#7201a8"
            ],
            [
             0.3333333333333333,
             "#9c179e"
            ],
            [
             0.4444444444444444,
             "#bd3786"
            ],
            [
             0.5555555555555556,
             "#d8576b"
            ],
            [
             0.6666666666666666,
             "#ed7953"
            ],
            [
             0.7777777777777778,
             "#fb9f3a"
            ],
            [
             0.8888888888888888,
             "#fdca26"
            ],
            [
             1,
             "#f0f921"
            ]
           ],
           "sequentialminus": [
            [
             0,
             "#0d0887"
            ],
            [
             0.1111111111111111,
             "#46039f"
            ],
            [
             0.2222222222222222,
             "#7201a8"
            ],
            [
             0.3333333333333333,
             "#9c179e"
            ],
            [
             0.4444444444444444,
             "#bd3786"
            ],
            [
             0.5555555555555556,
             "#d8576b"
            ],
            [
             0.6666666666666666,
             "#ed7953"
            ],
            [
             0.7777777777777778,
             "#fb9f3a"
            ],
            [
             0.8888888888888888,
             "#fdca26"
            ],
            [
             1,
             "#f0f921"
            ]
           ]
          },
          "colorway": [
           "#636efa",
           "#EF553B",
           "#00cc96",
           "#ab63fa",
           "#FFA15A",
           "#19d3f3",
           "#FF6692",
           "#B6E880",
           "#FF97FF",
           "#FECB52"
          ],
          "font": {
           "color": "#2a3f5f"
          },
          "geo": {
           "bgcolor": "white",
           "lakecolor": "white",
           "landcolor": "#E5ECF6",
           "showlakes": true,
           "showland": true,
           "subunitcolor": "white"
          },
          "hoverlabel": {
           "align": "left"
          },
          "hovermode": "closest",
          "mapbox": {
           "style": "light"
          },
          "paper_bgcolor": "white",
          "plot_bgcolor": "#E5ECF6",
          "polar": {
           "angularaxis": {
            "gridcolor": "white",
            "linecolor": "white",
            "ticks": ""
           },
           "bgcolor": "#E5ECF6",
           "radialaxis": {
            "gridcolor": "white",
            "linecolor": "white",
            "ticks": ""
           }
          },
          "scene": {
           "xaxis": {
            "backgroundcolor": "#E5ECF6",
            "gridcolor": "white",
            "gridwidth": 2,
            "linecolor": "white",
            "showbackground": true,
            "ticks": "",
            "zerolinecolor": "white"
           },
           "yaxis": {
            "backgroundcolor": "#E5ECF6",
            "gridcolor": "white",
            "gridwidth": 2,
            "linecolor": "white",
            "showbackground": true,
            "ticks": "",
            "zerolinecolor": "white"
           },
           "zaxis": {
            "backgroundcolor": "#E5ECF6",
            "gridcolor": "white",
            "gridwidth": 2,
            "linecolor": "white",
            "showbackground": true,
            "ticks": "",
            "zerolinecolor": "white"
           }
          },
          "shapedefaults": {
           "line": {
            "color": "#2a3f5f"
           }
          },
          "ternary": {
           "aaxis": {
            "gridcolor": "white",
            "linecolor": "white",
            "ticks": ""
           },
           "baxis": {
            "gridcolor": "white",
            "linecolor": "white",
            "ticks": ""
           },
           "bgcolor": "#E5ECF6",
           "caxis": {
            "gridcolor": "white",
            "linecolor": "white",
            "ticks": ""
           }
          },
          "title": {
           "x": 0.05
          },
          "xaxis": {
           "automargin": true,
           "gridcolor": "white",
           "linecolor": "white",
           "ticks": "",
           "title": {
            "standoff": 15
           },
           "zerolinecolor": "white",
           "zerolinewidth": 2
          },
          "yaxis": {
           "automargin": true,
           "gridcolor": "white",
           "linecolor": "white",
           "ticks": "",
           "title": {
            "standoff": 15
           },
           "zerolinecolor": "white",
           "zerolinewidth": 2
          }
         }
        },
        "title": {
         "font": {
          "size": 24
         },
         "text": "US Yield Curve"
        },
        "updatemenus": [
         {
          "buttons": [
           {
            "args": [
             null,
             {
              "frame": {
               "duration": 500,
               "redraw": false
              },
              "fromcurrent": true,
              "mode": "immediate",
              "transition": {
               "duration": 500,
               "easing": "linear"
              }
             }
            ],
            "label": "&#9654;",
            "method": "animate"
           },
           {
            "args": [
             [
              null
             ],
             {
              "frame": {
               "duration": 0,
               "redraw": false
              },
              "fromcurrent": true,
              "mode": "immediate",
              "transition": {
               "duration": 0,
               "easing": "linear"
              }
             }
            ],
            "label": "&#9724;",
            "method": "animate"
           }
          ],
          "direction": "left",
          "pad": {
           "r": 10,
           "t": 70
          },
          "showactive": false,
          "type": "buttons",
          "x": 0.1,
          "xanchor": "right",
          "y": 0,
          "yanchor": "top"
         }
        ],
        "width": 1200,
        "xaxis": {
         "anchor": "y",
         "domain": [
          0,
          1
         ],
         "title": {
          "text": "Maturity"
         }
        },
        "yaxis": {
         "anchor": "x",
         "domain": [
          0,
          1
         ],
         "range": [
          0,
          5
         ],
         "title": {
          "text": "Yield"
         }
        }
       }
      }
     },
     "metadata": {},
     "output_type": "display_data"
    },
    {
     "data": {
      "text/plain": [
       "'temp-plot.html'"
      ]
     },
     "execution_count": 8,
     "metadata": {},
     "output_type": "execute_result"
    }
   ],
   "source": [
    "fig = px.line(tabular_df,\n",
    "              x='Maturity',\n",
    "              y='Yield',\n",
    "              animation_frame='DATE',\n",
    "              animation_group='Maturity',\n",
    "              range_y=[0,5],\n",
    "              markers='*',\n",
    "              text=tabular_df.Yield,\n",
    "                  \n",
    "             )\n",
    "fig.update_traces(mode='markers+text',\n",
    "                  textposition='top center',\n",
    "                  textfont=dict(\n",
    "                                family='Arial',\n",
    "                                size=14,\n",
    "    )\n",
    ")\n",
    "\n",
    "fig.update_layout(title='US Yield Curve',\n",
    "                  title_font=dict(size = 24),\n",
    "                  autosize=True,\n",
    "                  width=1200,\n",
    "                  height=600,\n",
    "                 \n",
    "                 )\n",
    "fig.show(animation=dict(fromcurrent=True,mode='immediate'))\n",
    "\n",
    "# Auto-play animation\n",
    "plotly.offline.plot(fig, auto_play = True)"
   ]
  },
  {
   "cell_type": "code",
   "execution_count": 6,
   "id": "b99022f4-b76b-4bfb-bd57-c38bb40a7100",
   "metadata": {},
   "outputs": [
    {
     "data": {
      "application/vnd.plotly.v1+json": {
       "config": {
        "plotlyServerURL": "https://plot.ly"
       },
       "data": [
        {
         "colorscale": [
          [
           0,
           "#000000"
          ],
          [
           0.0625,
           "#001f4d"
          ],
          [
           0.125,
           "#003786"
          ],
          [
           0.1875,
           "#0e58a8"
          ],
          [
           0.25,
           "#217eb8"
          ],
          [
           0.3125,
           "#30a4ca"
          ],
          [
           0.375,
           "#54c8df"
          ],
          [
           0.4375,
           "#9be4ef"
          ],
          [
           0.5,
           "#e1e9d1"
          ],
          [
           0.5625,
           "#f3d573"
          ],
          [
           0.625,
           "#e7b000"
          ],
          [
           0.6875,
           "#da8200"
          ],
          [
           0.75,
           "#c65400"
          ],
          [
           0.8125,
           "#ac2301"
          ],
          [
           0.875,
           "#820000"
          ],
          [
           0.9375,
           "#4c0000"
          ],
          [
           1,
           "#000000"
          ]
         ],
         "connectgaps": true,
         "opacity": 0.8,
         "reversescale": false,
         "showscale": true,
         "type": "surface",
         "x": [
          "GS30",
          "GS10",
          "GS5",
          "GS3",
          "GS2",
          "GS1",
          "GS6m",
          "GS3m",
          "GS1m"
         ],
         "y": [
          "2001-07-01T00:00:00",
          "2001-08-01T00:00:00",
          "2001-09-01T00:00:00",
          "2001-10-01T00:00:00",
          "2001-11-01T00:00:00",
          "2001-12-01T00:00:00",
          "2002-01-01T00:00:00",
          "2002-02-01T00:00:00",
          "2002-03-01T00:00:00",
          "2002-04-01T00:00:00",
          "2002-05-01T00:00:00",
          "2002-06-01T00:00:00",
          "2002-07-01T00:00:00",
          "2002-08-01T00:00:00",
          "2002-09-01T00:00:00",
          "2002-10-01T00:00:00",
          "2002-11-01T00:00:00",
          "2002-12-01T00:00:00",
          "2003-01-01T00:00:00",
          "2003-02-01T00:00:00",
          "2003-03-01T00:00:00",
          "2003-04-01T00:00:00",
          "2003-05-01T00:00:00",
          "2003-06-01T00:00:00",
          "2003-07-01T00:00:00",
          "2003-08-01T00:00:00",
          "2003-09-01T00:00:00",
          "2003-10-01T00:00:00",
          "2003-11-01T00:00:00",
          "2003-12-01T00:00:00",
          "2004-01-01T00:00:00",
          "2004-02-01T00:00:00",
          "2004-03-01T00:00:00",
          "2004-04-01T00:00:00",
          "2004-05-01T00:00:00",
          "2004-06-01T00:00:00",
          "2004-07-01T00:00:00",
          "2004-08-01T00:00:00",
          "2004-09-01T00:00:00",
          "2004-10-01T00:00:00",
          "2004-11-01T00:00:00",
          "2004-12-01T00:00:00",
          "2005-01-01T00:00:00",
          "2005-02-01T00:00:00",
          "2005-03-01T00:00:00",
          "2005-04-01T00:00:00",
          "2005-05-01T00:00:00",
          "2005-06-01T00:00:00",
          "2005-07-01T00:00:00",
          "2005-08-01T00:00:00",
          "2005-09-01T00:00:00",
          "2005-10-01T00:00:00",
          "2005-11-01T00:00:00",
          "2005-12-01T00:00:00",
          "2006-01-01T00:00:00",
          "2006-02-01T00:00:00",
          "2006-03-01T00:00:00",
          "2006-04-01T00:00:00",
          "2006-05-01T00:00:00",
          "2006-06-01T00:00:00",
          "2006-07-01T00:00:00",
          "2006-08-01T00:00:00",
          "2006-09-01T00:00:00",
          "2006-10-01T00:00:00",
          "2006-11-01T00:00:00",
          "2006-12-01T00:00:00",
          "2007-01-01T00:00:00",
          "2007-02-01T00:00:00",
          "2007-03-01T00:00:00",
          "2007-04-01T00:00:00",
          "2007-05-01T00:00:00",
          "2007-06-01T00:00:00",
          "2007-07-01T00:00:00",
          "2007-08-01T00:00:00",
          "2007-09-01T00:00:00",
          "2007-10-01T00:00:00",
          "2007-11-01T00:00:00",
          "2007-12-01T00:00:00",
          "2008-01-01T00:00:00",
          "2008-02-01T00:00:00",
          "2008-03-01T00:00:00",
          "2008-04-01T00:00:00",
          "2008-05-01T00:00:00",
          "2008-06-01T00:00:00",
          "2008-07-01T00:00:00",
          "2008-08-01T00:00:00",
          "2008-09-01T00:00:00",
          "2008-10-01T00:00:00",
          "2008-11-01T00:00:00",
          "2008-12-01T00:00:00",
          "2009-01-01T00:00:00",
          "2009-02-01T00:00:00",
          "2009-03-01T00:00:00",
          "2009-04-01T00:00:00",
          "2009-05-01T00:00:00",
          "2009-06-01T00:00:00",
          "2009-07-01T00:00:00",
          "2009-08-01T00:00:00",
          "2009-09-01T00:00:00",
          "2009-10-01T00:00:00",
          "2009-11-01T00:00:00",
          "2009-12-01T00:00:00",
          "2010-01-01T00:00:00",
          "2010-02-01T00:00:00",
          "2010-03-01T00:00:00",
          "2010-04-01T00:00:00",
          "2010-05-01T00:00:00",
          "2010-06-01T00:00:00",
          "2010-07-01T00:00:00",
          "2010-08-01T00:00:00",
          "2010-09-01T00:00:00",
          "2010-10-01T00:00:00",
          "2010-11-01T00:00:00",
          "2010-12-01T00:00:00",
          "2011-01-01T00:00:00",
          "2011-02-01T00:00:00",
          "2011-03-01T00:00:00",
          "2011-04-01T00:00:00",
          "2011-05-01T00:00:00",
          "2011-06-01T00:00:00",
          "2011-07-01T00:00:00",
          "2011-08-01T00:00:00",
          "2011-09-01T00:00:00",
          "2011-10-01T00:00:00",
          "2011-11-01T00:00:00",
          "2011-12-01T00:00:00",
          "2012-01-01T00:00:00",
          "2012-02-01T00:00:00",
          "2012-03-01T00:00:00",
          "2012-04-01T00:00:00",
          "2012-05-01T00:00:00",
          "2012-06-01T00:00:00",
          "2012-07-01T00:00:00",
          "2012-08-01T00:00:00",
          "2012-09-01T00:00:00",
          "2012-10-01T00:00:00",
          "2012-11-01T00:00:00",
          "2012-12-01T00:00:00",
          "2013-01-01T00:00:00",
          "2013-02-01T00:00:00",
          "2013-03-01T00:00:00",
          "2013-04-01T00:00:00",
          "2013-05-01T00:00:00",
          "2013-06-01T00:00:00",
          "2013-07-01T00:00:00",
          "2013-08-01T00:00:00",
          "2013-09-01T00:00:00",
          "2013-10-01T00:00:00",
          "2013-11-01T00:00:00",
          "2013-12-01T00:00:00",
          "2014-01-01T00:00:00",
          "2014-02-01T00:00:00",
          "2014-03-01T00:00:00",
          "2014-04-01T00:00:00",
          "2014-05-01T00:00:00",
          "2014-06-01T00:00:00",
          "2014-07-01T00:00:00",
          "2014-08-01T00:00:00",
          "2014-09-01T00:00:00",
          "2014-10-01T00:00:00",
          "2014-11-01T00:00:00",
          "2014-12-01T00:00:00",
          "2015-01-01T00:00:00",
          "2015-02-01T00:00:00",
          "2015-03-01T00:00:00",
          "2015-04-01T00:00:00",
          "2015-05-01T00:00:00",
          "2015-06-01T00:00:00",
          "2015-07-01T00:00:00",
          "2015-08-01T00:00:00",
          "2015-09-01T00:00:00",
          "2015-10-01T00:00:00",
          "2015-11-01T00:00:00",
          "2015-12-01T00:00:00",
          "2016-01-01T00:00:00",
          "2016-02-01T00:00:00",
          "2016-03-01T00:00:00",
          "2016-04-01T00:00:00",
          "2016-05-01T00:00:00",
          "2016-06-01T00:00:00",
          "2016-07-01T00:00:00",
          "2016-08-01T00:00:00",
          "2016-09-01T00:00:00",
          "2016-10-01T00:00:00",
          "2016-11-01T00:00:00",
          "2016-12-01T00:00:00",
          "2017-01-01T00:00:00",
          "2017-02-01T00:00:00",
          "2017-03-01T00:00:00",
          "2017-04-01T00:00:00",
          "2017-05-01T00:00:00",
          "2017-06-01T00:00:00",
          "2017-07-01T00:00:00",
          "2017-08-01T00:00:00",
          "2017-09-01T00:00:00",
          "2017-10-01T00:00:00",
          "2017-11-01T00:00:00",
          "2017-12-01T00:00:00",
          "2018-01-01T00:00:00",
          "2018-02-01T00:00:00",
          "2018-03-01T00:00:00",
          "2018-04-01T00:00:00",
          "2018-05-01T00:00:00",
          "2018-06-01T00:00:00",
          "2018-07-01T00:00:00",
          "2018-08-01T00:00:00",
          "2018-09-01T00:00:00",
          "2018-10-01T00:00:00",
          "2018-11-01T00:00:00",
          "2018-12-01T00:00:00",
          "2019-01-01T00:00:00",
          "2019-02-01T00:00:00",
          "2019-03-01T00:00:00",
          "2019-04-01T00:00:00",
          "2019-05-01T00:00:00",
          "2019-06-01T00:00:00",
          "2019-07-01T00:00:00",
          "2019-08-01T00:00:00",
          "2019-09-01T00:00:00",
          "2019-10-01T00:00:00",
          "2019-11-01T00:00:00",
          "2019-12-01T00:00:00",
          "2020-01-01T00:00:00",
          "2020-02-01T00:00:00",
          "2020-03-01T00:00:00",
          "2020-04-01T00:00:00",
          "2020-05-01T00:00:00",
          "2020-06-01T00:00:00",
          "2020-07-01T00:00:00",
          "2020-08-01T00:00:00",
          "2020-09-01T00:00:00",
          "2020-10-01T00:00:00",
          "2020-11-01T00:00:00",
          "2020-12-01T00:00:00",
          "2021-01-01T00:00:00",
          "2021-02-01T00:00:00",
          "2021-03-01T00:00:00",
          "2021-04-01T00:00:00",
          "2021-05-01T00:00:00",
          "2021-06-01T00:00:00",
          "2021-07-01T00:00:00",
          "2021-08-01T00:00:00",
          "2021-09-01T00:00:00",
          "2021-10-01T00:00:00",
          "2021-11-01T00:00:00",
          "2021-12-01T00:00:00",
          "2022-01-01T00:00:00",
          "2022-02-01T00:00:00",
          "2022-03-01T00:00:00",
          "2022-04-01T00:00:00",
          "2022-05-01T00:00:00",
          "2022-06-01T00:00:00",
          "2022-07-01T00:00:00",
          "2022-08-01T00:00:00",
          "2022-09-01T00:00:00",
          "2022-10-01T00:00:00",
          "2022-11-01T00:00:00",
          "2022-12-01T00:00:00"
         ],
         "z": [
          [
           5.61,
           5.24,
           4.76,
           4.31,
           4.04,
           3.62,
           3.56,
           3.59,
           3.67
          ],
          [
           5.48,
           4.97,
           4.57,
           4.04,
           3.76,
           3.47,
           3.39,
           3.44,
           3.53
          ],
          [
           5.48,
           4.73,
           4.12,
           3.45,
           3.12,
           2.82,
           2.71,
           2.69,
           2.68
          ],
          [
           5.32,
           4.57,
           3.91,
           3.14,
           2.73,
           2.33,
           2.17,
           2.2,
           2.27
          ],
          [
           5.12,
           4.65,
           3.97,
           3.22,
           2.78,
           2.18,
           1.92,
           1.91,
           1.99
          ],
          [
           5.48,
           5.09,
           4.39,
           3.62,
           3.11,
           2.22,
           1.82,
           1.72,
           1.72
          ],
          [
           5.45,
           5.04,
           4.34,
           3.56,
           3.03,
           2.16,
           1.77,
           1.68,
           1.68
          ],
          [
           5.45,
           4.91,
           4.3,
           3.55,
           3.02,
           2.23,
           1.86,
           1.76,
           1.74
          ],
          [
           5.81,
           5.28,
           4.74,
           4.14,
           3.56,
           2.57,
           2.06,
           1.83,
           1.79
          ],
          [
           5.79,
           5.21,
           4.65,
           4.01,
           3.42,
           2.48,
           1.98,
           1.75,
           1.72
          ],
          [
           5.76,
           5.16,
           4.49,
           3.8,
           3.26,
           2.35,
           1.91,
           1.76,
           1.74
          ],
          [
           5.68,
           4.93,
           4.19,
           3.49,
           2.99,
           2.2,
           1.83,
           1.73,
           1.72
          ],
          [
           5.59,
           4.65,
           3.81,
           3.01,
           2.56,
           1.96,
           1.74,
           1.71,
           1.72
          ],
          [
           5.28,
           4.26,
           3.29,
           2.52,
           2.13,
           1.76,
           1.64,
           1.65,
           1.68
          ],
          [
           4.96,
           3.87,
           2.94,
           2.32,
           2,
           1.72,
           1.64,
           1.66,
           1.67
          ],
          [
           5.18,
           3.94,
           2.95,
           2.25,
           1.91,
           1.65,
           1.59,
           1.61,
           1.62
          ],
          [
           5.18,
           4.05,
           3.05,
           2.32,
           1.92,
           1.49,
           1.3,
           1.25,
           1.26
          ],
          [
           5.13,
           4.03,
           3.03,
           2.23,
           1.84,
           1.45,
           1.27,
           1.21,
           1.2
          ],
          [
           5.14,
           4.05,
           3.05,
           2.18,
           1.74,
           1.36,
           1.22,
           1.19,
           1.17
          ],
          [
           5.02,
           3.9,
           2.9,
           2.05,
           1.63,
           1.3,
           1.2,
           1.19,
           1.2
          ],
          [
           5.03,
           3.81,
           2.78,
           1.98,
           1.57,
           1.24,
           1.16,
           1.15,
           1.18
          ],
          [
           5.13,
           3.96,
           2.93,
           2.06,
           1.62,
           1.27,
           1.17,
           1.15,
           1.16
          ],
          [
           4.76,
           3.57,
           2.52,
           1.75,
           1.42,
           1.18,
           1.11,
           1.09,
           1.08
          ],
          [
           4.62,
           3.33,
           2.27,
           1.51,
           1.23,
           1.01,
           0.94,
           0.94,
           0.97
          ],
          [
           5.13,
           3.98,
           2.87,
           1.93,
           1.47,
           1.12,
           0.97,
           0.92,
           0.9
          ],
          [
           5.45,
           4.45,
           3.37,
           2.44,
           1.86,
           1.31,
           1.05,
           0.97,
           0.95
          ],
          [
           5.28,
           4.27,
           3.18,
           2.23,
           1.71,
           1.24,
           1.03,
           0.96,
           0.91
          ],
          [
           5.3,
           4.29,
           3.19,
           2.26,
           1.75,
           1.25,
           1.02,
           0.94,
           0.91
          ],
          [
           5.25,
           4.3,
           3.29,
           2.45,
           1.93,
           1.34,
           1.04,
           0.95,
           0.94
          ],
          [
           5.21,
           4.27,
           3.27,
           2.44,
           1.91,
           1.31,
           1.01,
           0.91,
           0.89
          ],
          [
           5.13,
           4.15,
           3.12,
           2.27,
           1.76,
           1.24,
           0.99,
           0.9,
           0.85
          ],
          [
           5.08,
           4.08,
           3.07,
           2.25,
           1.74,
           1.24,
           1.01,
           0.94,
           0.92
          ],
          [
           4.9,
           3.83,
           2.79,
           2,
           1.58,
           1.19,
           1.01,
           0.95,
           0.96
          ],
          [
           5.28,
           4.35,
           3.39,
           2.57,
           2.07,
           1.43,
           1.11,
           0.96,
           0.91
          ],
          [
           5.51,
           4.72,
           3.85,
           3.1,
           2.53,
           1.78,
           1.33,
           1.04,
           0.91
          ],
          [
           5.48,
           4.73,
           3.93,
           3.26,
           2.76,
           2.12,
           1.64,
           1.29,
           1.05
          ],
          [
           5.31,
           4.5,
           3.69,
           3.05,
           2.64,
           2.1,
           1.7,
           1.36,
           1.19
          ],
          [
           5.15,
           4.28,
           3.47,
           2.88,
           2.51,
           2.02,
           1.76,
           1.5,
           1.37
          ],
          [
           4.98,
           4.13,
           3.36,
           2.83,
           2.53,
           2.12,
           1.91,
           1.68,
           1.55
          ],
          [
           4.94,
           4.1,
           3.35,
           2.85,
           2.58,
           2.23,
           2.05,
           1.79,
           1.63
          ],
          [
           4.95,
           4.19,
           3.53,
           3.09,
           2.85,
           2.5,
           2.32,
           2.11,
           1.92
          ],
          [
           4.91,
           4.23,
           3.6,
           3.21,
           3.01,
           2.67,
           2.5,
           2.22,
           1.96
          ],
          [
           4.77,
           4.22,
           3.71,
           3.39,
           3.22,
           2.86,
           2.68,
           2.37,
           2.05
          ],
          [
           4.56,
           4.17,
           3.77,
           3.54,
           3.38,
           3.03,
           2.85,
           2.58,
           2.36
          ],
          [
           4.77,
           4.5,
           4.17,
           3.91,
           3.73,
           3.3,
           3.09,
           2.8,
           2.65
          ],
          [
           4.65,
           4.34,
           4,
           3.79,
           3.65,
           3.32,
           3.14,
           2.84,
           2.64
          ],
          [
           4.49,
           4.14,
           3.85,
           3.72,
           3.64,
           3.33,
           3.17,
           2.9,
           2.65
          ],
          [
           4.28,
           4,
           3.77,
           3.69,
           3.64,
           3.36,
           3.22,
           3.04,
           2.83
          ],
          [
           4.38,
           4.18,
           3.98,
           3.91,
           3.87,
           3.64,
           3.53,
           3.29,
           3.1
          ],
          [
           4.44,
           4.26,
           4.12,
           4.08,
           4.04,
           3.87,
           3.78,
           3.52,
           3.34
          ],
          [
           4.45,
           4.2,
           4.01,
           3.96,
           3.95,
           3.85,
           3.79,
           3.49,
           3.23
          ],
          [
           4.64,
           4.46,
           4.33,
           4.29,
           4.27,
           4.18,
           4.13,
           3.79,
           3.51
          ],
          [
           4.7,
           4.54,
           4.45,
           4.43,
           4.42,
           4.33,
           4.3,
           3.97,
           3.91
          ],
          [
           4.62,
           4.47,
           4.39,
           4.39,
           4.4,
           4.35,
           4.33,
           3.97,
           3.69
          ],
          [
           4.57,
           4.42,
           4.35,
           4.35,
           4.4,
           4.45,
           4.47,
           4.34,
           4.12
          ],
          [
           4.57,
           4.57,
           4.57,
           4.64,
           4.67,
           4.68,
           4.69,
           4.54,
           4.38
          ],
          [
           4.73,
           4.72,
           4.72,
           4.74,
           4.73,
           4.77,
           4.79,
           4.63,
           4.55
          ],
          [
           5.06,
           4.99,
           4.9,
           4.89,
           4.89,
           4.9,
           4.9,
           4.72,
           4.61
          ],
          [
           5.2,
           5.11,
           5,
           4.97,
           4.97,
           5,
           5.01,
           4.84,
           4.7
          ],
          [
           5.15,
           5.11,
           5.07,
           5.09,
           5.12,
           5.16,
           5.17,
           4.92,
           4.71
          ],
          [
           5.13,
           5.09,
           5.04,
           5.07,
           5.12,
           5.22,
           5.27,
           5.08,
           4.9
          ],
          [
           5,
           4.88,
           4.82,
           4.85,
           4.9,
           5.08,
           5.17,
           5.09,
           5.16
          ],
          [
           4.85,
           4.72,
           4.67,
           4.69,
           4.77,
           4.97,
           5.08,
           4.93,
           4.77
          ],
          [
           4.85,
           4.73,
           4.69,
           4.72,
           4.8,
           5.01,
           5.12,
           5.05,
           4.97
          ],
          [
           4.69,
           4.6,
           4.58,
           4.64,
           4.74,
           5.01,
           5.15,
           5.07,
           5.21
          ],
          [
           4.68,
           4.56,
           4.53,
           4.58,
           4.67,
           4.94,
           5.07,
           4.97,
           4.87
          ],
          [
           4.85,
           4.76,
           4.75,
           4.79,
           4.88,
           5.06,
           5.15,
           5.11,
           4.94
          ],
          [
           4.82,
           4.72,
           4.71,
           4.75,
           4.85,
           5.05,
           5.16,
           5.16,
           5.18
          ],
          [
           4.72,
           4.56,
           4.48,
           4.51,
           4.57,
           4.92,
           5.1,
           5.08,
           5.21
          ],
          [
           4.87,
           4.69,
           4.59,
           4.6,
           4.67,
           4.93,
           5.07,
           5.01,
           4.99
          ],
          [
           4.9,
           4.75,
           4.67,
           4.69,
           4.77,
           4.91,
           4.98,
           4.87,
           4.82
          ],
          [
           5.2,
           5.1,
           5.03,
           5,
           4.98,
           4.96,
           4.95,
           4.74,
           4.52
          ],
          [
           5.11,
           5,
           4.88,
           4.82,
           4.82,
           4.96,
           5.04,
           4.96,
           4.82
          ],
          [
           4.93,
           4.67,
           4.43,
           4.34,
           4.31,
           4.47,
           4.55,
           4.32,
           4.2
          ],
          [
           4.79,
           4.52,
           4.2,
           4.06,
           4.01,
           4.14,
           4.2,
           3.99,
           3.78
          ],
          [
           4.77,
           4.53,
           4.2,
           4.01,
           3.97,
           4.1,
           4.16,
           4,
           3.81
          ],
          [
           4.52,
           4.15,
           3.67,
           3.35,
           3.34,
           3.5,
           3.58,
           3.35,
           3.68
          ],
          [
           4.53,
           4.1,
           3.49,
           3.13,
           3.12,
           3.26,
           3.34,
           3.07,
           2.86
          ],
          [
           4.33,
           3.74,
           2.98,
           2.51,
           2.48,
           2.71,
           2.84,
           2.82,
           2.74
          ],
          [
           4.52,
           3.74,
           2.78,
           2.19,
           1.97,
           2.05,
           2.1,
           2.17,
           2.27
          ],
          [
           4.39,
           3.51,
           2.48,
           1.8,
           1.62,
           1.54,
           1.51,
           1.28,
           1.35
          ],
          [
           4.44,
           3.68,
           2.84,
           2.23,
           2.05,
           1.74,
           1.58,
           1.31,
           1.07
          ],
          [
           4.6,
           3.88,
           3.15,
           2.69,
           2.45,
           2.06,
           1.86,
           1.76,
           1.76
          ],
          [
           4.69,
           4.1,
           3.49,
           3.08,
           2.77,
           2.42,
           2.19,
           1.89,
           1.72
          ],
          [
           4.57,
           4.01,
           3.3,
           2.87,
           2.57,
           2.28,
           1.98,
           1.66,
           1.6
          ],
          [
           4.5,
           3.89,
           3.14,
           2.7,
           2.42,
           2.18,
           1.97,
           1.75,
           1.68
          ],
          [
           4.27,
           3.69,
           2.88,
           2.32,
           2.08,
           1.91,
           1.64,
           1.15,
           0.89
          ],
          [
           4.17,
           3.81,
           2.73,
           1.86,
           1.61,
           1.42,
           1.23,
           0.69,
           0.29
          ],
          [
           4,
           3.53,
           2.29,
           1.51,
           1.21,
           1.07,
           0.74,
           0.19,
           0.09
          ],
          [
           2.87,
           2.42,
           1.52,
           1.07,
           0.82,
           0.49,
           0.26,
           0.03,
           0.03
          ],
          [
           3.13,
           2.52,
           1.6,
           1.13,
           0.81,
           0.44,
           0.3,
           0.13,
           0.05
          ],
          [
           3.59,
           2.87,
           1.87,
           1.37,
           0.98,
           0.62,
           0.46,
           0.3,
           0.22
          ],
          [
           3.64,
           2.82,
           1.82,
           1.31,
           0.93,
           0.64,
           0.43,
           0.22,
           0.1
          ],
          [
           3.76,
           2.93,
           1.86,
           1.32,
           0.93,
           0.55,
           0.35,
           0.16,
           0.1
          ],
          [
           4.23,
           3.29,
           2.13,
           1.39,
           0.93,
           0.5,
           0.3,
           0.18,
           0.14
          ],
          [
           4.52,
           3.72,
           2.71,
           1.76,
           1.18,
           0.51,
           0.31,
           0.18,
           0.1
          ],
          [
           4.41,
           3.56,
           2.46,
           1.55,
           1.02,
           0.48,
           0.28,
           0.18,
           0.15
          ],
          [
           4.37,
           3.59,
           2.57,
           1.65,
           1.12,
           0.46,
           0.27,
           0.17,
           0.12
          ],
          [
           4.19,
           3.4,
           2.37,
           1.48,
           0.96,
           0.4,
           0.21,
           0.12,
           0.06
          ],
          [
           4.19,
           3.39,
           2.33,
           1.46,
           0.95,
           0.37,
           0.16,
           0.07,
           0.04
          ],
          [
           4.31,
           3.4,
           2.23,
           1.32,
           0.8,
           0.31,
           0.15,
           0.05,
           0.05
          ],
          [
           4.49,
           3.59,
           2.34,
           1.38,
           0.87,
           0.37,
           0.17,
           0.05,
           0.03
          ],
          [
           4.6,
           3.73,
           2.48,
           1.49,
           0.93,
           0.35,
           0.15,
           0.06,
           0.02
          ],
          [
           4.62,
           3.69,
           2.36,
           1.4,
           0.86,
           0.35,
           0.18,
           0.11,
           0.06
          ],
          [
           4.64,
           3.73,
           2.43,
           1.51,
           0.96,
           0.4,
           0.23,
           0.15,
           0.12
          ],
          [
           4.69,
           3.85,
           2.58,
           1.64,
           1.06,
           0.45,
           0.24,
           0.16,
           0.15
          ],
          [
           4.29,
           3.42,
           2.18,
           1.32,
           0.83,
           0.37,
           0.22,
           0.16,
           0.15
          ],
          [
           4.13,
           3.2,
           2,
           1.17,
           0.72,
           0.32,
           0.19,
           0.12,
           0.08
          ],
          [
           3.99,
           3.01,
           1.76,
           0.98,
           0.62,
           0.29,
           0.2,
           0.16,
           0.16
          ],
          [
           3.8,
           2.7,
           1.47,
           0.78,
           0.52,
           0.26,
           0.19,
           0.16,
           0.15
          ],
          [
           3.77,
           2.65,
           1.41,
           0.74,
           0.48,
           0.26,
           0.19,
           0.15,
           0.12
          ],
          [
           3.87,
           2.54,
           1.18,
           0.57,
           0.38,
           0.23,
           0.18,
           0.13,
           0.14
          ],
          [
           4.19,
           2.76,
           1.35,
           0.67,
           0.45,
           0.25,
           0.18,
           0.14,
           0.13
          ],
          [
           4.42,
           3.29,
           1.93,
           0.99,
           0.62,
           0.29,
           0.19,
           0.14,
           0.09
          ],
          [
           4.52,
           3.39,
           1.99,
           1.03,
           0.61,
           0.27,
           0.18,
           0.15,
           0.14
          ],
          [
           4.65,
           3.58,
           2.26,
           1.28,
           0.77,
           0.29,
           0.17,
           0.13,
           0.11
          ],
          [
           4.51,
           3.41,
           2.11,
           1.17,
           0.7,
           0.26,
           0.16,
           0.1,
           0.06
          ],
          [
           4.5,
           3.46,
           2.17,
           1.21,
           0.73,
           0.25,
           0.12,
           0.06,
           0.03
          ],
          [
           4.29,
           3.17,
           1.84,
           0.94,
           0.56,
           0.19,
           0.09,
           0.04,
           0.02
          ],
          [
           4.23,
           3,
           1.58,
           0.71,
           0.41,
           0.18,
           0.1,
           0.04,
           0.02
          ],
          [
           4.27,
           3,
           1.54,
           0.68,
           0.41,
           0.19,
           0.08,
           0.04,
           0.04
          ],
          [
           3.65,
           2.3,
           1.02,
           0.38,
           0.23,
           0.11,
           0.06,
           0.02,
           0.02
          ],
          [
           3.18,
           1.98,
           0.9,
           0.35,
           0.21,
           0.1,
           0.04,
           0.01,
           0.01
          ],
          [
           3.13,
           2.15,
           1.06,
           0.47,
           0.28,
           0.11,
           0.05,
           0.02,
           0.01
          ],
          [
           3.02,
           2.01,
           0.91,
           0.39,
           0.25,
           0.11,
           0.05,
           0.01,
           0.01
          ],
          [
           2.98,
           1.98,
           0.89,
           0.39,
           0.26,
           0.12,
           0.05,
           0.01,
           0
          ],
          [
           3.03,
           1.97,
           0.84,
           0.36,
           0.24,
           0.12,
           0.07,
           0.03,
           0.02
          ],
          [
           3.11,
           1.97,
           0.83,
           0.38,
           0.28,
           0.16,
           0.12,
           0.09,
           0.06
          ],
          [
           3.28,
           2.17,
           1.02,
           0.51,
           0.34,
           0.19,
           0.14,
           0.08,
           0.06
          ],
          [
           3.18,
           2.05,
           0.89,
           0.43,
           0.29,
           0.18,
           0.14,
           0.08,
           0.07
          ],
          [
           2.93,
           1.8,
           0.76,
           0.39,
           0.29,
           0.19,
           0.15,
           0.09,
           0.07
          ],
          [
           2.7,
           1.62,
           0.71,
           0.39,
           0.29,
           0.19,
           0.15,
           0.09,
           0.05
          ],
          [
           2.59,
           1.53,
           0.62,
           0.33,
           0.25,
           0.19,
           0.15,
           0.1,
           0.07
          ],
          [
           2.77,
           1.68,
           0.71,
           0.37,
           0.27,
           0.18,
           0.14,
           0.1,
           0.09
          ],
          [
           2.88,
           1.72,
           0.67,
           0.34,
           0.26,
           0.18,
           0.14,
           0.11,
           0.08
          ],
          [
           2.9,
           1.75,
           0.71,
           0.37,
           0.28,
           0.18,
           0.15,
           0.1,
           0.11
          ],
          [
           2.8,
           1.65,
           0.67,
           0.36,
           0.27,
           0.18,
           0.14,
           0.09,
           0.12
          ],
          [
           2.88,
           1.72,
           0.7,
           0.35,
           0.26,
           0.16,
           0.12,
           0.07,
           0.04
          ],
          [
           3.08,
           1.91,
           0.81,
           0.39,
           0.27,
           0.15,
           0.11,
           0.07,
           0.05
          ],
          [
           3.17,
           1.98,
           0.85,
           0.4,
           0.27,
           0.16,
           0.12,
           0.1,
           0.08
          ],
          [
           3.16,
           1.96,
           0.82,
           0.39,
           0.26,
           0.15,
           0.11,
           0.09,
           0.08
          ],
          [
           2.93,
           1.76,
           0.71,
           0.34,
           0.23,
           0.12,
           0.09,
           0.06,
           0.05
          ],
          [
           3.11,
           1.93,
           0.84,
           0.4,
           0.25,
           0.12,
           0.08,
           0.04,
           0.02
          ],
          [
           3.4,
           2.3,
           1.2,
           0.58,
           0.33,
           0.14,
           0.09,
           0.05,
           0.03
          ],
          [
           3.61,
           2.58,
           1.4,
           0.64,
           0.34,
           0.12,
           0.07,
           0.04,
           0.02
          ],
          [
           3.76,
           2.74,
           1.52,
           0.7,
           0.36,
           0.13,
           0.07,
           0.04,
           0.04
          ],
          [
           3.79,
           2.81,
           1.6,
           0.78,
           0.4,
           0.12,
           0.04,
           0.02,
           0.02
          ],
          [
           3.68,
           2.62,
           1.37,
           0.63,
           0.34,
           0.12,
           0.08,
           0.05,
           0.11
          ],
          [
           3.8,
           2.72,
           1.37,
           0.58,
           0.3,
           0.12,
           0.1,
           0.07,
           0.05
          ],
          [
           3.89,
           2.9,
           1.58,
           0.69,
           0.34,
           0.13,
           0.1,
           0.07,
           0.02
          ],
          [
           3.77,
           2.86,
           1.65,
           0.78,
           0.39,
           0.12,
           0.07,
           0.04,
           0.02
          ],
          [
           3.66,
           2.71,
           1.52,
           0.69,
           0.33,
           0.12,
           0.08,
           0.05,
           0.05
          ],
          [
           3.62,
           2.72,
           1.64,
           0.82,
           0.4,
           0.13,
           0.08,
           0.05,
           0.05
          ],
          [
           3.52,
           2.71,
           1.7,
           0.88,
           0.42,
           0.11,
           0.05,
           0.03,
           0.02
          ],
          [
           3.39,
           2.56,
           1.59,
           0.83,
           0.39,
           0.1,
           0.05,
           0.03,
           0.03
          ],
          [
           3.42,
           2.6,
           1.68,
           0.9,
           0.45,
           0.1,
           0.06,
           0.04,
           0.02
          ],
          [
           3.33,
           2.54,
           1.7,
           0.97,
           0.51,
           0.11,
           0.06,
           0.03,
           0.02
          ],
          [
           3.2,
           2.42,
           1.63,
           0.93,
           0.47,
           0.11,
           0.05,
           0.03,
           0.03
          ],
          [
           3.26,
           2.53,
           1.77,
           1.05,
           0.57,
           0.11,
           0.04,
           0.02,
           0.01
          ],
          [
           3.04,
           2.3,
           1.55,
           0.88,
           0.45,
           0.1,
           0.05,
           0.02,
           0.02
          ],
          [
           3.04,
           2.33,
           1.62,
           0.96,
           0.53,
           0.13,
           0.07,
           0.02,
           0.04
          ],
          [
           2.83,
           2.21,
           1.64,
           1.06,
           0.64,
           0.21,
           0.11,
           0.03,
           0.03
          ],
          [
           2.46,
           1.88,
           1.37,
           0.9,
           0.55,
           0.2,
           0.08,
           0.03,
           0.02
          ],
          [
           2.57,
           1.98,
           1.47,
           0.99,
           0.62,
           0.22,
           0.07,
           0.02,
           0.02
          ],
          [
           2.63,
           2.04,
           1.52,
           1.02,
           0.64,
           0.25,
           0.11,
           0.03,
           0.02
          ],
          [
           2.59,
           1.94,
           1.35,
           0.87,
           0.54,
           0.23,
           0.09,
           0.02,
           0.02
          ],
          [
           2.96,
           2.2,
           1.54,
           0.98,
           0.61,
           0.24,
           0.08,
           0.02,
           0.01
          ],
          [
           3.11,
           2.36,
           1.68,
           1.07,
           0.69,
           0.28,
           0.09,
           0.02,
           0.01
          ],
          [
           3.07,
           2.32,
           1.63,
           1.03,
           0.67,
           0.3,
           0.12,
           0.03,
           0.03
          ],
          [
           2.86,
           2.17,
           1.54,
           1.03,
           0.7,
           0.38,
           0.22,
           0.07,
           0.04
          ],
          [
           2.95,
           2.17,
           1.49,
           1.01,
           0.71,
           0.37,
           0.18,
           0.02,
           0.01
          ],
          [
           2.89,
           2.07,
           1.39,
           0.93,
           0.64,
           0.26,
           0.11,
           0.02,
           0.01
          ],
          [
           3.03,
           2.26,
           1.67,
           1.2,
           0.88,
           0.48,
           0.33,
           0.13,
           0.07
          ],
          [
           2.97,
           2.24,
           1.7,
           1.28,
           0.98,
           0.65,
           0.5,
           0.23,
           0.17
          ],
          [
           2.86,
           2.09,
           1.52,
           1.14,
           0.9,
           0.54,
           0.43,
           0.26,
           0.23
          ],
          [
           2.62,
           1.78,
           1.22,
           0.9,
           0.73,
           0.53,
           0.45,
           0.31,
           0.26
          ],
          [
           2.68,
           1.89,
           1.38,
           1.04,
           0.88,
           0.66,
           0.47,
           0.3,
           0.25
          ],
          [
           2.62,
           1.81,
           1.26,
           0.92,
           0.77,
           0.56,
           0.37,
           0.23,
           0.19
          ],
          [
           2.63,
           1.81,
           1.3,
           0.97,
           0.82,
           0.59,
           0.42,
           0.28,
           0.23
          ],
          [
           2.45,
           1.64,
           1.17,
           0.86,
           0.73,
           0.55,
           0.4,
           0.27,
           0.22
          ],
          [
           2.23,
           1.5,
           1.07,
           0.79,
           0.67,
           0.51,
           0.4,
           0.3,
           0.26
          ],
          [
           2.26,
           1.56,
           1.13,
           0.85,
           0.74,
           0.57,
           0.45,
           0.3,
           0.26
          ],
          [
           2.35,
           1.63,
           1.18,
           0.9,
           0.77,
           0.59,
           0.47,
           0.29,
           0.19
          ],
          [
           2.5,
           1.76,
           1.27,
           0.99,
           0.84,
           0.66,
           0.48,
           0.33,
           0.24
          ],
          [
           2.86,
           2.14,
           1.6,
           1.22,
           0.98,
           0.74,
           0.58,
           0.45,
           0.3
          ],
          [
           3.11,
           2.49,
           1.96,
           1.49,
           1.2,
           0.87,
           0.64,
           0.51,
           0.42
          ],
          [
           3.02,
           2.43,
           1.92,
           1.48,
           1.21,
           0.83,
           0.62,
           0.52,
           0.5
          ],
          [
           3.03,
           2.42,
           1.9,
           1.47,
           1.2,
           0.82,
           0.65,
           0.53,
           0.48
          ],
          [
           3.08,
           2.48,
           2.01,
           1.59,
           1.31,
           1.01,
           0.89,
           0.75,
           0.66
          ],
          [
           2.94,
           2.3,
           1.82,
           1.44,
           1.24,
           1.04,
           0.95,
           0.81,
           0.75
          ],
          [
           2.96,
           2.3,
           1.84,
           1.48,
           1.3,
           1.12,
           1.04,
           0.9,
           0.73
          ],
          [
           2.8,
           2.19,
           1.77,
           1.49,
           1.34,
           1.2,
           1.11,
           1,
           0.84
          ],
          [
           2.88,
           2.32,
           1.87,
           1.54,
           1.37,
           1.22,
           1.13,
           1.09,
           0.97
          ],
          [
           2.8,
           2.21,
           1.78,
           1.48,
           1.34,
           1.23,
           1.13,
           1.03,
           0.98
          ],
          [
           2.78,
           2.2,
           1.8,
           1.51,
           1.38,
           1.28,
           1.17,
           1.05,
           0.99
          ],
          [
           2.88,
           2.36,
           1.98,
           1.68,
           1.55,
           1.4,
           1.25,
           1.09,
           1
          ],
          [
           2.8,
           2.35,
           2.05,
           1.81,
           1.7,
           1.56,
           1.39,
           1.25,
           1.09
          ],
          [
           2.77,
           2.4,
           2.18,
           1.96,
           1.84,
           1.7,
           1.5,
           1.34,
           1.2
          ],
          [
           2.88,
           2.58,
           2.38,
           2.15,
           2.03,
           1.8,
           1.62,
           1.43,
           1.3
          ],
          [
           3.13,
           2.86,
           2.6,
           2.36,
           2.18,
           1.96,
           1.79,
           1.59,
           1.38
          ],
          [
           3.09,
           2.84,
           2.63,
           2.42,
           2.28,
           2.06,
           1.92,
           1.73,
           1.64
          ],
          [
           3.07,
           2.87,
           2.7,
           2.52,
           2.38,
           2.15,
           1.98,
           1.79,
           1.66
          ],
          [
           3.13,
           2.98,
           2.82,
           2.66,
           2.51,
           2.27,
           2.07,
           1.9,
           1.71
          ],
          [
           3.05,
           2.91,
           2.78,
           2.65,
           2.53,
           2.33,
           2.11,
           1.94,
           1.81
          ],
          [
           3.01,
           2.89,
           2.78,
           2.7,
           2.61,
           2.39,
           2.17,
           1.99,
           1.89
          ],
          [
           3.04,
           2.89,
           2.77,
           2.71,
           2.64,
           2.45,
           2.24,
           2.07,
           1.94
          ],
          [
           3.15,
           3,
           2.89,
           2.84,
           2.77,
           2.56,
           2.34,
           2.17,
           2.04
          ],
          [
           3.34,
           3.15,
           3,
           2.94,
           2.86,
           2.65,
           2.46,
           2.29,
           2.17
          ],
          [
           3.36,
           3.12,
           2.95,
           2.91,
           2.86,
           2.7,
           2.52,
           2.37,
           2.24
          ],
          [
           3.1,
           2.83,
           2.68,
           2.67,
           2.68,
           2.66,
           2.54,
           2.41,
           2.37
          ],
          [
           3.04,
           2.71,
           2.54,
           2.52,
           2.54,
           2.58,
           2.51,
           2.42,
           2.4
          ],
          [
           3.02,
           2.68,
           2.49,
           2.48,
           2.5,
           2.55,
           2.5,
           2.44,
           2.43
          ],
          [
           2.98,
           2.57,
           2.37,
           2.37,
           2.41,
           2.49,
           2.51,
           2.45,
           2.45
          ],
          [
           2.94,
           2.53,
           2.33,
           2.31,
           2.34,
           2.42,
           2.46,
           2.43,
           2.43
          ],
          [
           2.82,
           2.4,
           2.19,
           2.16,
           2.21,
           2.34,
           2.42,
           2.4,
           2.4
          ],
          [
           2.57,
           2.07,
           1.83,
           1.78,
           1.81,
           2,
           2.17,
           2.22,
           2.22
          ],
          [
           2.57,
           2.06,
           1.83,
           1.8,
           1.84,
           1.96,
           2.08,
           2.15,
           2.15
          ],
          [
           2.12,
           1.63,
           1.49,
           1.51,
           1.57,
           1.77,
           1.93,
           1.99,
           2.07
          ],
          [
           2.16,
           1.7,
           1.57,
           1.59,
           1.65,
           1.8,
           1.89,
           1.93,
           1.99
          ],
          [
           2.19,
           1.71,
           1.53,
           1.53,
           1.55,
           1.61,
           1.67,
           1.68,
           1.73
          ],
          [
           2.28,
           1.81,
           1.64,
           1.61,
           1.61,
           1.57,
           1.59,
           1.57,
           1.58
          ],
          [
           2.3,
           1.86,
           1.68,
           1.63,
           1.61,
           1.55,
           1.58,
           1.57,
           1.55
          ],
          [
           2.22,
           1.76,
           1.56,
           1.52,
           1.52,
           1.53,
           1.56,
           1.55,
           1.53
          ],
          [
           1.97,
           1.5,
           1.32,
           1.31,
           1.33,
           1.41,
           1.51,
           1.54,
           1.58
          ],
          [
           1.46,
           0.87,
           0.59,
           0.5,
           0.45,
           0.33,
           0.3,
           0.3,
           0.37
          ],
          [
           1.27,
           0.66,
           0.39,
           0.28,
           0.22,
           0.18,
           0.17,
           0.14,
           0.11
          ],
          [
           1.38,
           0.67,
           0.34,
           0.22,
           0.17,
           0.16,
           0.15,
           0.13,
           0.1
          ],
          [
           1.49,
           0.73,
           0.34,
           0.22,
           0.19,
           0.18,
           0.18,
           0.16,
           0.13
          ],
          [
           1.31,
           0.62,
           0.28,
           0.17,
           0.15,
           0.15,
           0.14,
           0.13,
           0.11
          ],
          [
           1.36,
           0.65,
           0.27,
           0.16,
           0.14,
           0.13,
           0.12,
           0.1,
           0.08
          ],
          [
           1.42,
           0.68,
           0.27,
           0.16,
           0.13,
           0.13,
           0.12,
           0.11,
           0.09
          ],
          [
           1.57,
           0.79,
           0.34,
           0.19,
           0.15,
           0.13,
           0.11,
           0.1,
           0.09
          ],
          [
           1.62,
           0.87,
           0.39,
           0.22,
           0.17,
           0.12,
           0.1,
           0.09,
           0.09
          ],
          [
           1.67,
           0.93,
           0.39,
           0.19,
           0.14,
           0.1,
           0.09,
           0.09,
           0.08
          ],
          [
           1.82,
           1.08,
           0.45,
           0.2,
           0.13,
           0.1,
           0.09,
           0.08,
           0.08
          ],
          [
           2.04,
           1.26,
           0.54,
           0.21,
           0.12,
           0.07,
           0.06,
           0.04,
           0.04
          ],
          [
           2.34,
           1.61,
           0.82,
           0.32,
           0.15,
           0.08,
           0.05,
           0.03,
           0.02
          ],
          [
           2.3,
           1.64,
           0.86,
           0.35,
           0.16,
           0.06,
           0.04,
           0.02,
           0.02
          ],
          [
           2.32,
           1.62,
           0.82,
           0.32,
           0.16,
           0.05,
           0.04,
           0.02,
           0.01
          ],
          [
           2.16,
           1.52,
           0.84,
           0.39,
           0.2,
           0.07,
           0.05,
           0.04,
           0.03
          ],
          [
           1.94,
           1.32,
           0.76,
           0.4,
           0.22,
           0.08,
           0.05,
           0.05,
           0.05
          ],
          [
           1.92,
           1.28,
           0.77,
           0.42,
           0.22,
           0.07,
           0.06,
           0.05,
           0.04
          ],
          [
           1.94,
           1.37,
           0.86,
           0.47,
           0.24,
           0.08,
           0.05,
           0.04,
           0.05
          ],
          [
           2.06,
           1.58,
           1.11,
           0.67,
           0.39,
           0.11,
           0.06,
           0.05,
           0.06
          ],
          [
           1.94,
           1.56,
           1.2,
           0.82,
           0.51,
           0.18,
           0.07,
           0.05,
           0.07
          ],
          [
           1.85,
           1.47,
           1.23,
           0.95,
           0.68,
           0.3,
           0.15,
           0.06,
           0.04
          ],
          [
           2.1,
           1.76,
           1.54,
           1.25,
           0.98,
           0.55,
           0.33,
           0.15,
           0.05
          ],
          [
           2.25,
           1.93,
           1.81,
           1.65,
           1.44,
           1,
           0.64,
           0.31,
           0.04
          ],
          [
           2.41,
           2.13,
           2.11,
           2.09,
           1.91,
           1.34,
           0.86,
           0.45,
           0.18
          ],
          [
           2.81,
           2.75,
           2.78,
           2.72,
           2.54,
           1.89,
           1.26,
           0.76,
           0.31
          ],
          [
           3.07,
           2.9,
           2.87,
           2.79,
           2.62,
           2.06,
           1.49,
           0.99,
           0.58
          ],
          [
           3.25,
           3.14,
           3.19,
           3.15,
           3,
           2.65,
           2.17,
           1.54,
           1.06
          ],
          [
           3.1,
           2.9,
           2.96,
           3.03,
           3.04,
           3.02,
           2.87,
           2.3,
           1.85
          ],
          [
           3.13,
           2.9,
           3.03,
           3.23,
           3.25,
           3.28,
           3.15,
           2.72,
           2.28
          ],
          [
           3.56,
           3.52,
           3.7,
           3.88,
           3.86,
           3.89,
           3.71,
           3.22,
           2.61
          ],
          [
           4.04,
           3.98,
           4.18,
           4.38,
           4.38,
           4.43,
           4.31,
           3.87,
           3.32
          ],
          [
           4,
           3.89,
           4.06,
           4.34,
           4.5,
           4.73,
           4.61,
           4.32,
           3.87
          ],
          [
           3.66,
           3.62,
           3.76,
           4.05,
           4.29,
           4.68,
           4.71,
           4.36,
           3.9
          ]
         ]
        }
       ],
       "layout": {
        "autosize": true,
        "height": 800,
        "margin": {
         "b": 40,
         "l": 0,
         "r": 0,
         "t": 60
        },
        "scene": {
         "aspectratio": {
          "x": 1,
          "y": 2.2,
          "z": 1
         },
         "camera": {
          "eye": {
           "x": 2,
           "y": 0.4,
           "z": 0.8
          }
         }
        },
        "template": {
         "data": {
          "bar": [
           {
            "error_x": {
             "color": "#2a3f5f"
            },
            "error_y": {
             "color": "#2a3f5f"
            },
            "marker": {
             "line": {
              "color": "#E5ECF6",
              "width": 0.5
             },
             "pattern": {
              "fillmode": "overlay",
              "size": 10,
              "solidity": 0.2
             }
            },
            "type": "bar"
           }
          ],
          "barpolar": [
           {
            "marker": {
             "line": {
              "color": "#E5ECF6",
              "width": 0.5
             },
             "pattern": {
              "fillmode": "overlay",
              "size": 10,
              "solidity": 0.2
             }
            },
            "type": "barpolar"
           }
          ],
          "carpet": [
           {
            "aaxis": {
             "endlinecolor": "#2a3f5f",
             "gridcolor": "white",
             "linecolor": "white",
             "minorgridcolor": "white",
             "startlinecolor": "#2a3f5f"
            },
            "baxis": {
             "endlinecolor": "#2a3f5f",
             "gridcolor": "white",
             "linecolor": "white",
             "minorgridcolor": "white",
             "startlinecolor": "#2a3f5f"
            },
            "type": "carpet"
           }
          ],
          "choropleth": [
           {
            "colorbar": {
             "outlinewidth": 0,
             "ticks": ""
            },
            "type": "choropleth"
           }
          ],
          "contour": [
           {
            "colorbar": {
             "outlinewidth": 0,
             "ticks": ""
            },
            "colorscale": [
             [
              0,
              "#0d0887"
             ],
             [
              0.1111111111111111,
              "#46039f"
             ],
             [
              0.2222222222222222,
              "#7201a8"
             ],
             [
              0.3333333333333333,
              "#9c179e"
             ],
             [
              0.4444444444444444,
              "#bd3786"
             ],
             [
              0.5555555555555556,
              "#d8576b"
             ],
             [
              0.6666666666666666,
              "#ed7953"
             ],
             [
              0.7777777777777778,
              "#fb9f3a"
             ],
             [
              0.8888888888888888,
              "#fdca26"
             ],
             [
              1,
              "#f0f921"
             ]
            ],
            "type": "contour"
           }
          ],
          "contourcarpet": [
           {
            "colorbar": {
             "outlinewidth": 0,
             "ticks": ""
            },
            "type": "contourcarpet"
           }
          ],
          "heatmap": [
           {
            "colorbar": {
             "outlinewidth": 0,
             "ticks": ""
            },
            "colorscale": [
             [
              0,
              "#0d0887"
             ],
             [
              0.1111111111111111,
              "#46039f"
             ],
             [
              0.2222222222222222,
              "#7201a8"
             ],
             [
              0.3333333333333333,
              "#9c179e"
             ],
             [
              0.4444444444444444,
              "#bd3786"
             ],
             [
              0.5555555555555556,
              "#d8576b"
             ],
             [
              0.6666666666666666,
              "#ed7953"
             ],
             [
              0.7777777777777778,
              "#fb9f3a"
             ],
             [
              0.8888888888888888,
              "#fdca26"
             ],
             [
              1,
              "#f0f921"
             ]
            ],
            "type": "heatmap"
           }
          ],
          "heatmapgl": [
           {
            "colorbar": {
             "outlinewidth": 0,
             "ticks": ""
            },
            "colorscale": [
             [
              0,
              "#0d0887"
             ],
             [
              0.1111111111111111,
              "#46039f"
             ],
             [
              0.2222222222222222,
              "#7201a8"
             ],
             [
              0.3333333333333333,
              "#9c179e"
             ],
             [
              0.4444444444444444,
              "#bd3786"
             ],
             [
              0.5555555555555556,
              "#d8576b"
             ],
             [
              0.6666666666666666,
              "#ed7953"
             ],
             [
              0.7777777777777778,
              "#fb9f3a"
             ],
             [
              0.8888888888888888,
              "#fdca26"
             ],
             [
              1,
              "#f0f921"
             ]
            ],
            "type": "heatmapgl"
           }
          ],
          "histogram": [
           {
            "marker": {
             "pattern": {
              "fillmode": "overlay",
              "size": 10,
              "solidity": 0.2
             }
            },
            "type": "histogram"
           }
          ],
          "histogram2d": [
           {
            "colorbar": {
             "outlinewidth": 0,
             "ticks": ""
            },
            "colorscale": [
             [
              0,
              "#0d0887"
             ],
             [
              0.1111111111111111,
              "#46039f"
             ],
             [
              0.2222222222222222,
              "#7201a8"
             ],
             [
              0.3333333333333333,
              "#9c179e"
             ],
             [
              0.4444444444444444,
              "#bd3786"
             ],
             [
              0.5555555555555556,
              "#d8576b"
             ],
             [
              0.6666666666666666,
              "#ed7953"
             ],
             [
              0.7777777777777778,
              "#fb9f3a"
             ],
             [
              0.8888888888888888,
              "#fdca26"
             ],
             [
              1,
              "#f0f921"
             ]
            ],
            "type": "histogram2d"
           }
          ],
          "histogram2dcontour": [
           {
            "colorbar": {
             "outlinewidth": 0,
             "ticks": ""
            },
            "colorscale": [
             [
              0,
              "#0d0887"
             ],
             [
              0.1111111111111111,
              "#46039f"
             ],
             [
              0.2222222222222222,
              "#7201a8"
             ],
             [
              0.3333333333333333,
              "#9c179e"
             ],
             [
              0.4444444444444444,
              "#bd3786"
             ],
             [
              0.5555555555555556,
              "#d8576b"
             ],
             [
              0.6666666666666666,
              "#ed7953"
             ],
             [
              0.7777777777777778,
              "#fb9f3a"
             ],
             [
              0.8888888888888888,
              "#fdca26"
             ],
             [
              1,
              "#f0f921"
             ]
            ],
            "type": "histogram2dcontour"
           }
          ],
          "mesh3d": [
           {
            "colorbar": {
             "outlinewidth": 0,
             "ticks": ""
            },
            "type": "mesh3d"
           }
          ],
          "parcoords": [
           {
            "line": {
             "colorbar": {
              "outlinewidth": 0,
              "ticks": ""
             }
            },
            "type": "parcoords"
           }
          ],
          "pie": [
           {
            "automargin": true,
            "type": "pie"
           }
          ],
          "scatter": [
           {
            "marker": {
             "colorbar": {
              "outlinewidth": 0,
              "ticks": ""
             }
            },
            "type": "scatter"
           }
          ],
          "scatter3d": [
           {
            "line": {
             "colorbar": {
              "outlinewidth": 0,
              "ticks": ""
             }
            },
            "marker": {
             "colorbar": {
              "outlinewidth": 0,
              "ticks": ""
             }
            },
            "type": "scatter3d"
           }
          ],
          "scattercarpet": [
           {
            "marker": {
             "colorbar": {
              "outlinewidth": 0,
              "ticks": ""
             }
            },
            "type": "scattercarpet"
           }
          ],
          "scattergeo": [
           {
            "marker": {
             "colorbar": {
              "outlinewidth": 0,
              "ticks": ""
             }
            },
            "type": "scattergeo"
           }
          ],
          "scattergl": [
           {
            "marker": {
             "colorbar": {
              "outlinewidth": 0,
              "ticks": ""
             }
            },
            "type": "scattergl"
           }
          ],
          "scattermapbox": [
           {
            "marker": {
             "colorbar": {
              "outlinewidth": 0,
              "ticks": ""
             }
            },
            "type": "scattermapbox"
           }
          ],
          "scatterpolar": [
           {
            "marker": {
             "colorbar": {
              "outlinewidth": 0,
              "ticks": ""
             }
            },
            "type": "scatterpolar"
           }
          ],
          "scatterpolargl": [
           {
            "marker": {
             "colorbar": {
              "outlinewidth": 0,
              "ticks": ""
             }
            },
            "type": "scatterpolargl"
           }
          ],
          "scatterternary": [
           {
            "marker": {
             "colorbar": {
              "outlinewidth": 0,
              "ticks": ""
             }
            },
            "type": "scatterternary"
           }
          ],
          "surface": [
           {
            "colorbar": {
             "outlinewidth": 0,
             "ticks": ""
            },
            "colorscale": [
             [
              0,
              "#0d0887"
             ],
             [
              0.1111111111111111,
              "#46039f"
             ],
             [
              0.2222222222222222,
              "#7201a8"
             ],
             [
              0.3333333333333333,
              "#9c179e"
             ],
             [
              0.4444444444444444,
              "#bd3786"
             ],
             [
              0.5555555555555556,
              "#d8576b"
             ],
             [
              0.6666666666666666,
              "#ed7953"
             ],
             [
              0.7777777777777778,
              "#fb9f3a"
             ],
             [
              0.8888888888888888,
              "#fdca26"
             ],
             [
              1,
              "#f0f921"
             ]
            ],
            "type": "surface"
           }
          ],
          "table": [
           {
            "cells": {
             "fill": {
              "color": "#EBF0F8"
             },
             "line": {
              "color": "white"
             }
            },
            "header": {
             "fill": {
              "color": "#C8D4E3"
             },
             "line": {
              "color": "white"
             }
            },
            "type": "table"
           }
          ]
         },
         "layout": {
          "annotationdefaults": {
           "arrowcolor": "#2a3f5f",
           "arrowhead": 0,
           "arrowwidth": 1
          },
          "autotypenumbers": "strict",
          "coloraxis": {
           "colorbar": {
            "outlinewidth": 0,
            "ticks": ""
           }
          },
          "colorscale": {
           "diverging": [
            [
             0,
             "#8e0152"
            ],
            [
             0.1,
             "#c51b7d"
            ],
            [
             0.2,
             "#de77ae"
            ],
            [
             0.3,
             "#f1b6da"
            ],
            [
             0.4,
             "#fde0ef"
            ],
            [
             0.5,
             "#f7f7f7"
            ],
            [
             0.6,
             "#e6f5d0"
            ],
            [
             0.7,
             "#b8e186"
            ],
            [
             0.8,
             "#7fbc41"
            ],
            [
             0.9,
             "#4d9221"
            ],
            [
             1,
             "#276419"
            ]
           ],
           "sequential": [
            [
             0,
             "#0d0887"
            ],
            [
             0.1111111111111111,
             "#46039f"
            ],
            [
             0.2222222222222222,
             "#7201a8"
            ],
            [
             0.3333333333333333,
             "#9c179e"
            ],
            [
             0.4444444444444444,
             "#bd3786"
            ],
            [
             0.5555555555555556,
             "#d8576b"
            ],
            [
             0.6666666666666666,
             "#ed7953"
            ],
            [
             0.7777777777777778,
             "#fb9f3a"
            ],
            [
             0.8888888888888888,
             "#fdca26"
            ],
            [
             1,
             "#f0f921"
            ]
           ],
           "sequentialminus": [
            [
             0,
             "#0d0887"
            ],
            [
             0.1111111111111111,
             "#46039f"
            ],
            [
             0.2222222222222222,
             "#7201a8"
            ],
            [
             0.3333333333333333,
             "#9c179e"
            ],
            [
             0.4444444444444444,
             "#bd3786"
            ],
            [
             0.5555555555555556,
             "#d8576b"
            ],
            [
             0.6666666666666666,
             "#ed7953"
            ],
            [
             0.7777777777777778,
             "#fb9f3a"
            ],
            [
             0.8888888888888888,
             "#fdca26"
            ],
            [
             1,
             "#f0f921"
            ]
           ]
          },
          "colorway": [
           "#636efa",
           "#EF553B",
           "#00cc96",
           "#ab63fa",
           "#FFA15A",
           "#19d3f3",
           "#FF6692",
           "#B6E880",
           "#FF97FF",
           "#FECB52"
          ],
          "font": {
           "color": "#2a3f5f"
          },
          "geo": {
           "bgcolor": "white",
           "lakecolor": "white",
           "landcolor": "#E5ECF6",
           "showlakes": true,
           "showland": true,
           "subunitcolor": "white"
          },
          "hoverlabel": {
           "align": "left"
          },
          "hovermode": "closest",
          "mapbox": {
           "style": "light"
          },
          "paper_bgcolor": "white",
          "plot_bgcolor": "#E5ECF6",
          "polar": {
           "angularaxis": {
            "gridcolor": "white",
            "linecolor": "white",
            "ticks": ""
           },
           "bgcolor": "#E5ECF6",
           "radialaxis": {
            "gridcolor": "white",
            "linecolor": "white",
            "ticks": ""
           }
          },
          "scene": {
           "xaxis": {
            "backgroundcolor": "#E5ECF6",
            "gridcolor": "white",
            "gridwidth": 2,
            "linecolor": "white",
            "showbackground": true,
            "ticks": "",
            "zerolinecolor": "white"
           },
           "yaxis": {
            "backgroundcolor": "#E5ECF6",
            "gridcolor": "white",
            "gridwidth": 2,
            "linecolor": "white",
            "showbackground": true,
            "ticks": "",
            "zerolinecolor": "white"
           },
           "zaxis": {
            "backgroundcolor": "#E5ECF6",
            "gridcolor": "white",
            "gridwidth": 2,
            "linecolor": "white",
            "showbackground": true,
            "ticks": "",
            "zerolinecolor": "white"
           }
          },
          "shapedefaults": {
           "line": {
            "color": "#2a3f5f"
           }
          },
          "ternary": {
           "aaxis": {
            "gridcolor": "white",
            "linecolor": "white",
            "ticks": ""
           },
           "baxis": {
            "gridcolor": "white",
            "linecolor": "white",
            "ticks": ""
           },
           "bgcolor": "#E5ECF6",
           "caxis": {
            "gridcolor": "white",
            "linecolor": "white",
            "ticks": ""
           }
          },
          "title": {
           "x": 0.05
          },
          "xaxis": {
           "automargin": true,
           "gridcolor": "white",
           "linecolor": "white",
           "ticks": "",
           "title": {
            "standoff": 15
           },
           "zerolinecolor": "white",
           "zerolinewidth": 2
          },
          "yaxis": {
           "automargin": true,
           "gridcolor": "white",
           "linecolor": "white",
           "ticks": "",
           "title": {
            "standoff": 15
           },
           "zerolinecolor": "white",
           "zerolinewidth": 2
          }
         }
        },
        "title": {
         "font": {
          "size": 24
         },
         "text": "US Yield Curve"
        },
        "width": 1600
       }
      }
     },
     "metadata": {},
     "output_type": "display_data"
    }
   ],
   "source": [
    "import plotly.graph_objects as go\n",
    "\n",
    "fig = go.Figure(data=[go.Surface(x=tickers,\n",
    "                                 y=df.index,\n",
    "                                 z=df.values,\n",
    "                                 opacity=0.8,\n",
    "                                 connectgaps=True,\n",
    "                                 colorscale='icefire', \n",
    "                                 showscale=True, \n",
    "                                 reversescale=False\n",
    "                                )\n",
    "                     ]\n",
    "               )\n",
    "\n",
    "fig.update_layout(title='US Yield Curve',\n",
    "                  title_font=dict(size = 24),\n",
    "                  autosize=True,\n",
    "                  width=1600,\n",
    "                  height=800,\n",
    "                 scene = {\"aspectratio\": {\"x\": 1, \"y\": 2.2, \"z\": 1},\n",
    "                          'camera': {'eye':{'x': 2, 'y':0.4, 'z': 0.8}}\n",
    "                         },\n",
    "                  margin=dict(l=0, r=0, b=40, t=60),\n",
    "                 )\n",
    "\n",
    "fig.show()\n"
   ]
  },
  {
   "cell_type": "code",
   "execution_count": 14,
   "id": "0a858924-e4fe-4e71-bbab-44b9c59a59c9",
   "metadata": {},
   "outputs": [
    {
     "ename": "TypeError",
     "evalue": "string indices must be integers",
     "output_type": "error",
     "traceback": [
      "\u001b[0;31m---------------------------------------------------------------------------\u001b[0m",
      "\u001b[0;31mTypeError\u001b[0m                                 Traceback (most recent call last)",
      "\u001b[0;32m/var/folders/sr/2_q1kwss0cg7rt_ny655psg80000gn/T/ipykernel_10217/2343786385.py\u001b[0m in \u001b[0;36m<module>\u001b[0;34m\u001b[0m\n\u001b[1;32m      2\u001b[0m \u001b[0mstart\u001b[0m \u001b[0;34m=\u001b[0m \u001b[0;34m'2000-01-01'\u001b[0m\u001b[0;34m\u001b[0m\u001b[0;34m\u001b[0m\u001b[0m\n\u001b[1;32m      3\u001b[0m \u001b[0mtickers\u001b[0m \u001b[0;34m=\u001b[0m \u001b[0;34m[\u001b[0m\u001b[0;34m'^GSPC'\u001b[0m\u001b[0;34m]\u001b[0m\u001b[0;34m\u001b[0m\u001b[0;34m\u001b[0m\u001b[0m\n\u001b[0;32m----> 4\u001b[0;31m \u001b[0mspx_df\u001b[0m \u001b[0;34m=\u001b[0m \u001b[0mpdr\u001b[0m\u001b[0;34m.\u001b[0m\u001b[0mget_data_yahoo\u001b[0m\u001b[0;34m(\u001b[0m\u001b[0mtickers\u001b[0m\u001b[0;34m,\u001b[0m\u001b[0mstart\u001b[0m\u001b[0;34m)\u001b[0m\u001b[0;34m\u001b[0m\u001b[0;34m\u001b[0m\u001b[0m\n\u001b[0m\u001b[1;32m      5\u001b[0m \u001b[0mspx_df\u001b[0m\u001b[0;34m.\u001b[0m\u001b[0mdropna\u001b[0m\u001b[0;34m(\u001b[0m\u001b[0minplace\u001b[0m\u001b[0;34m=\u001b[0m\u001b[0;32mTrue\u001b[0m\u001b[0;34m)\u001b[0m\u001b[0;34m\u001b[0m\u001b[0;34m\u001b[0m\u001b[0m\n\u001b[1;32m      6\u001b[0m \u001b[0mspx_df\u001b[0m\u001b[0;34m\u001b[0m\u001b[0;34m\u001b[0m\u001b[0m\n",
      "\u001b[0;32m~/.pyenv/versions/lewagon/lib/python3.8/site-packages/pandas_datareader/data.py\u001b[0m in \u001b[0;36mget_data_yahoo\u001b[0;34m(*args, **kwargs)\u001b[0m\n\u001b[1;32m     78\u001b[0m \u001b[0;34m\u001b[0m\u001b[0m\n\u001b[1;32m     79\u001b[0m \u001b[0;32mdef\u001b[0m \u001b[0mget_data_yahoo\u001b[0m\u001b[0;34m(\u001b[0m\u001b[0;34m*\u001b[0m\u001b[0margs\u001b[0m\u001b[0;34m,\u001b[0m \u001b[0;34m**\u001b[0m\u001b[0mkwargs\u001b[0m\u001b[0;34m)\u001b[0m\u001b[0;34m:\u001b[0m\u001b[0;34m\u001b[0m\u001b[0;34m\u001b[0m\u001b[0m\n\u001b[0;32m---> 80\u001b[0;31m     \u001b[0;32mreturn\u001b[0m \u001b[0mYahooDailyReader\u001b[0m\u001b[0;34m(\u001b[0m\u001b[0;34m*\u001b[0m\u001b[0margs\u001b[0m\u001b[0;34m,\u001b[0m \u001b[0;34m**\u001b[0m\u001b[0mkwargs\u001b[0m\u001b[0;34m)\u001b[0m\u001b[0;34m.\u001b[0m\u001b[0mread\u001b[0m\u001b[0;34m(\u001b[0m\u001b[0;34m)\u001b[0m\u001b[0;34m\u001b[0m\u001b[0;34m\u001b[0m\u001b[0m\n\u001b[0m\u001b[1;32m     81\u001b[0m \u001b[0;34m\u001b[0m\u001b[0m\n\u001b[1;32m     82\u001b[0m \u001b[0;34m\u001b[0m\u001b[0m\n",
      "\u001b[0;32m~/.pyenv/versions/lewagon/lib/python3.8/site-packages/pandas_datareader/base.py\u001b[0m in \u001b[0;36mread\u001b[0;34m(self)\u001b[0m\n\u001b[1;32m    256\u001b[0m             \u001b[0mdf\u001b[0m \u001b[0;34m=\u001b[0m \u001b[0mself\u001b[0m\u001b[0;34m.\u001b[0m\u001b[0m_dl_mult_symbols\u001b[0m\u001b[0;34m(\u001b[0m\u001b[0mself\u001b[0m\u001b[0;34m.\u001b[0m\u001b[0msymbols\u001b[0m\u001b[0;34m.\u001b[0m\u001b[0mindex\u001b[0m\u001b[0;34m)\u001b[0m\u001b[0;34m\u001b[0m\u001b[0;34m\u001b[0m\u001b[0m\n\u001b[1;32m    257\u001b[0m         \u001b[0;32melse\u001b[0m\u001b[0;34m:\u001b[0m\u001b[0;34m\u001b[0m\u001b[0;34m\u001b[0m\u001b[0m\n\u001b[0;32m--> 258\u001b[0;31m             \u001b[0mdf\u001b[0m \u001b[0;34m=\u001b[0m \u001b[0mself\u001b[0m\u001b[0;34m.\u001b[0m\u001b[0m_dl_mult_symbols\u001b[0m\u001b[0;34m(\u001b[0m\u001b[0mself\u001b[0m\u001b[0;34m.\u001b[0m\u001b[0msymbols\u001b[0m\u001b[0;34m)\u001b[0m\u001b[0;34m\u001b[0m\u001b[0;34m\u001b[0m\u001b[0m\n\u001b[0m\u001b[1;32m    259\u001b[0m         \u001b[0;32mreturn\u001b[0m \u001b[0mdf\u001b[0m\u001b[0;34m\u001b[0m\u001b[0;34m\u001b[0m\u001b[0m\n\u001b[1;32m    260\u001b[0m \u001b[0;34m\u001b[0m\u001b[0m\n",
      "\u001b[0;32m~/.pyenv/versions/lewagon/lib/python3.8/site-packages/pandas_datareader/base.py\u001b[0m in \u001b[0;36m_dl_mult_symbols\u001b[0;34m(self, symbols)\u001b[0m\n\u001b[1;32m    266\u001b[0m             \u001b[0;32mfor\u001b[0m \u001b[0msym\u001b[0m \u001b[0;32min\u001b[0m \u001b[0msym_group\u001b[0m\u001b[0;34m:\u001b[0m\u001b[0;34m\u001b[0m\u001b[0;34m\u001b[0m\u001b[0m\n\u001b[1;32m    267\u001b[0m                 \u001b[0;32mtry\u001b[0m\u001b[0;34m:\u001b[0m\u001b[0;34m\u001b[0m\u001b[0;34m\u001b[0m\u001b[0m\n\u001b[0;32m--> 268\u001b[0;31m                     \u001b[0mstocks\u001b[0m\u001b[0;34m[\u001b[0m\u001b[0msym\u001b[0m\u001b[0;34m]\u001b[0m \u001b[0;34m=\u001b[0m \u001b[0mself\u001b[0m\u001b[0;34m.\u001b[0m\u001b[0m_read_one_data\u001b[0m\u001b[0;34m(\u001b[0m\u001b[0mself\u001b[0m\u001b[0;34m.\u001b[0m\u001b[0murl\u001b[0m\u001b[0;34m,\u001b[0m \u001b[0mself\u001b[0m\u001b[0;34m.\u001b[0m\u001b[0m_get_params\u001b[0m\u001b[0;34m(\u001b[0m\u001b[0msym\u001b[0m\u001b[0;34m)\u001b[0m\u001b[0;34m)\u001b[0m\u001b[0;34m\u001b[0m\u001b[0;34m\u001b[0m\u001b[0m\n\u001b[0m\u001b[1;32m    269\u001b[0m                     \u001b[0mpassed\u001b[0m\u001b[0;34m.\u001b[0m\u001b[0mappend\u001b[0m\u001b[0;34m(\u001b[0m\u001b[0msym\u001b[0m\u001b[0;34m)\u001b[0m\u001b[0;34m\u001b[0m\u001b[0;34m\u001b[0m\u001b[0m\n\u001b[1;32m    270\u001b[0m                 \u001b[0;32mexcept\u001b[0m \u001b[0;34m(\u001b[0m\u001b[0mIOError\u001b[0m\u001b[0;34m,\u001b[0m \u001b[0mKeyError\u001b[0m\u001b[0;34m)\u001b[0m\u001b[0;34m:\u001b[0m\u001b[0;34m\u001b[0m\u001b[0;34m\u001b[0m\u001b[0m\n",
      "\u001b[0;32m~/.pyenv/versions/lewagon/lib/python3.8/site-packages/pandas_datareader/yahoo/daily.py\u001b[0m in \u001b[0;36m_read_one_data\u001b[0;34m(self, url, params)\u001b[0m\n\u001b[1;32m    151\u001b[0m         \u001b[0;32mtry\u001b[0m\u001b[0;34m:\u001b[0m\u001b[0;34m\u001b[0m\u001b[0;34m\u001b[0m\u001b[0m\n\u001b[1;32m    152\u001b[0m             \u001b[0mj\u001b[0m \u001b[0;34m=\u001b[0m \u001b[0mjson\u001b[0m\u001b[0;34m.\u001b[0m\u001b[0mloads\u001b[0m\u001b[0;34m(\u001b[0m\u001b[0mre\u001b[0m\u001b[0;34m.\u001b[0m\u001b[0msearch\u001b[0m\u001b[0;34m(\u001b[0m\u001b[0mptrn\u001b[0m\u001b[0;34m,\u001b[0m \u001b[0mresp\u001b[0m\u001b[0;34m.\u001b[0m\u001b[0mtext\u001b[0m\u001b[0;34m,\u001b[0m \u001b[0mre\u001b[0m\u001b[0;34m.\u001b[0m\u001b[0mDOTALL\u001b[0m\u001b[0;34m)\u001b[0m\u001b[0;34m.\u001b[0m\u001b[0mgroup\u001b[0m\u001b[0;34m(\u001b[0m\u001b[0;36m1\u001b[0m\u001b[0;34m)\u001b[0m\u001b[0;34m)\u001b[0m\u001b[0;34m\u001b[0m\u001b[0;34m\u001b[0m\u001b[0m\n\u001b[0;32m--> 153\u001b[0;31m             \u001b[0mdata\u001b[0m \u001b[0;34m=\u001b[0m \u001b[0mj\u001b[0m\u001b[0;34m[\u001b[0m\u001b[0;34m\"context\"\u001b[0m\u001b[0;34m]\u001b[0m\u001b[0;34m[\u001b[0m\u001b[0;34m\"dispatcher\"\u001b[0m\u001b[0;34m]\u001b[0m\u001b[0;34m[\u001b[0m\u001b[0;34m\"stores\"\u001b[0m\u001b[0;34m]\u001b[0m\u001b[0;34m[\u001b[0m\u001b[0;34m\"HistoricalPriceStore\"\u001b[0m\u001b[0;34m]\u001b[0m\u001b[0;34m\u001b[0m\u001b[0;34m\u001b[0m\u001b[0m\n\u001b[0m\u001b[1;32m    154\u001b[0m         \u001b[0;32mexcept\u001b[0m \u001b[0mKeyError\u001b[0m\u001b[0;34m:\u001b[0m\u001b[0;34m\u001b[0m\u001b[0;34m\u001b[0m\u001b[0m\n\u001b[1;32m    155\u001b[0m             \u001b[0mmsg\u001b[0m \u001b[0;34m=\u001b[0m \u001b[0;34m\"No data fetched for symbol {} using {}\"\u001b[0m\u001b[0;34m\u001b[0m\u001b[0;34m\u001b[0m\u001b[0m\n",
      "\u001b[0;31mTypeError\u001b[0m: string indices must be integers"
     ]
    }
   ],
   "source": [
    "# Import Monthly price from S&P 500\n",
    "start = '2000-01-01'\n",
    "tickers = ['^GSPC']\n",
    "spx_df = pdr.get_data_yahoo(tickers,start)\n",
    "spx_df.dropna(inplace=True)\n",
    "spx_df"
   ]
  },
  {
   "cell_type": "code",
   "execution_count": null,
   "id": "c61f1965-e0f5-4517-8d08-7d5be8b90a61",
   "metadata": {},
   "outputs": [],
   "source": []
  }
 ],
 "metadata": {
  "kernelspec": {
   "display_name": "Python 3",
   "language": "python",
   "name": "python3"
  },
  "language_info": {
   "codemirror_mode": {
    "name": "ipython",
    "version": 3
   },
   "file_extension": ".py",
   "mimetype": "text/x-python",
   "name": "python",
   "nbconvert_exporter": "python",
   "pygments_lexer": "ipython3",
   "version": "3.8.12"
  },
  "vscode": {
   "interpreter": {
    "hash": "688a00fe4f0a17689b50331a0cb9decb103e01fb866626aa677d79ca6a1aba70"
   }
  }
 },
 "nbformat": 4,
 "nbformat_minor": 5
}
